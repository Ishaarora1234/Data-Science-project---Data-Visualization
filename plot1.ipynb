{
 "cells": [
  {
   "cell_type": "code",
   "execution_count": 1,
   "metadata": {},
   "outputs": [
    {
     "data": {
      "text/html": [
       "        <script type=\"text/javascript\">\n",
       "        window.PlotlyConfig = {MathJaxConfig: 'local'};\n",
       "        if (window.MathJax) {MathJax.Hub.Config({SVG: {font: \"STIX-Web\"}});}\n",
       "        if (typeof require !== 'undefined') {\n",
       "        require.undef(\"plotly\");\n",
       "        requirejs.config({\n",
       "            paths: {\n",
       "                'plotly': ['https://cdn.plot.ly/plotly-latest.min']\n",
       "            }\n",
       "        });\n",
       "        require(['plotly'], function(Plotly) {\n",
       "            window._Plotly = Plotly;\n",
       "        });\n",
       "        }\n",
       "        </script>\n",
       "        "
      ]
     },
     "metadata": {},
     "output_type": "display_data"
    }
   ],
   "source": [
    "import pandas as pd\n",
    "import plotly as py\n",
    "import plotly.graph_objs as go\n",
    "import ipywidgets as widgets\n",
    "import numpy as np\n",
    "from scipy import special\n",
    "\n",
    "py.offline.init_notebook_mode(connected=True)\n"
   ]
  },
  {
   "cell_type": "code",
   "execution_count": 2,
   "metadata": {},
   "outputs": [],
   "source": [
    "mafs = pd.read_csv('mafs.csv')\n",
    "df_mafs = mafs.apply(pd.to_numeric, errors='ignore')\n",
    "df_new_mafs = df_mafs.head(50)"
   ]
  },
  {
   "cell_type": "code",
   "execution_count": 3,
   "metadata": {},
   "outputs": [
    {
     "data": {
      "text/html": [
       "<div>\n",
       "<style scoped>\n",
       "    .dataframe tbody tr th:only-of-type {\n",
       "        vertical-align: middle;\n",
       "    }\n",
       "\n",
       "    .dataframe tbody tr th {\n",
       "        vertical-align: top;\n",
       "    }\n",
       "\n",
       "    .dataframe thead th {\n",
       "        text-align: right;\n",
       "    }\n",
       "</style>\n",
       "<table border=\"1\" class=\"dataframe\">\n",
       "  <thead>\n",
       "    <tr style=\"text-align: right;\">\n",
       "      <th></th>\n",
       "      <th>Couple</th>\n",
       "      <th>Season</th>\n",
       "      <th>Location</th>\n",
       "      <th>Name</th>\n",
       "      <th>Age</th>\n",
       "      <th>Gender</th>\n",
       "      <th>Occupation</th>\n",
       "      <th>Decision</th>\n",
       "      <th>Status</th>\n",
       "      <th>DrPepperSchwartz</th>\n",
       "      <th>DrLoganLevkoff</th>\n",
       "      <th>DrJosephCilona</th>\n",
       "      <th>ChaplainGregEpstein</th>\n",
       "      <th>PastorCalvinRoberson</th>\n",
       "      <th>RachelDeAlto</th>\n",
       "      <th>DrJessicaGriffin</th>\n",
       "      <th>DrVivianaColes</th>\n",
       "    </tr>\n",
       "  </thead>\n",
       "  <tbody>\n",
       "    <tr>\n",
       "      <td>0</td>\n",
       "      <td>1</td>\n",
       "      <td>1</td>\n",
       "      <td>New York City and Northern New Jersey</td>\n",
       "      <td>Jamie Otis-Hehner</td>\n",
       "      <td>27</td>\n",
       "      <td>F</td>\n",
       "      <td>Nurse</td>\n",
       "      <td>Yes</td>\n",
       "      <td>Married</td>\n",
       "      <td>1</td>\n",
       "      <td>1</td>\n",
       "      <td>1</td>\n",
       "      <td>1</td>\n",
       "      <td>0</td>\n",
       "      <td>0</td>\n",
       "      <td>0</td>\n",
       "      <td>0</td>\n",
       "    </tr>\n",
       "    <tr>\n",
       "      <td>1</td>\n",
       "      <td>1</td>\n",
       "      <td>1</td>\n",
       "      <td>New York City and Northern New Jersey</td>\n",
       "      <td>Doug Hehner</td>\n",
       "      <td>31</td>\n",
       "      <td>M</td>\n",
       "      <td>Software salesman</td>\n",
       "      <td>Yes</td>\n",
       "      <td>Married</td>\n",
       "      <td>1</td>\n",
       "      <td>1</td>\n",
       "      <td>1</td>\n",
       "      <td>1</td>\n",
       "      <td>0</td>\n",
       "      <td>0</td>\n",
       "      <td>0</td>\n",
       "      <td>0</td>\n",
       "    </tr>\n",
       "    <tr>\n",
       "      <td>2</td>\n",
       "      <td>2</td>\n",
       "      <td>1</td>\n",
       "      <td>New York City and Northern New Jersey</td>\n",
       "      <td>Cortney Hendrix</td>\n",
       "      <td>26</td>\n",
       "      <td>F</td>\n",
       "      <td>Make-up artist</td>\n",
       "      <td>Yes</td>\n",
       "      <td>Divorced</td>\n",
       "      <td>1</td>\n",
       "      <td>1</td>\n",
       "      <td>1</td>\n",
       "      <td>1</td>\n",
       "      <td>0</td>\n",
       "      <td>0</td>\n",
       "      <td>0</td>\n",
       "      <td>0</td>\n",
       "    </tr>\n",
       "    <tr>\n",
       "      <td>3</td>\n",
       "      <td>2</td>\n",
       "      <td>1</td>\n",
       "      <td>New York City and Northern New Jersey</td>\n",
       "      <td>Jason Carrion</td>\n",
       "      <td>27</td>\n",
       "      <td>M</td>\n",
       "      <td>Fireman</td>\n",
       "      <td>Yes</td>\n",
       "      <td>Divorced</td>\n",
       "      <td>1</td>\n",
       "      <td>1</td>\n",
       "      <td>1</td>\n",
       "      <td>1</td>\n",
       "      <td>0</td>\n",
       "      <td>0</td>\n",
       "      <td>0</td>\n",
       "      <td>0</td>\n",
       "    </tr>\n",
       "    <tr>\n",
       "      <td>4</td>\n",
       "      <td>3</td>\n",
       "      <td>1</td>\n",
       "      <td>New York City and Northern New Jersey</td>\n",
       "      <td>Monet Bell</td>\n",
       "      <td>33</td>\n",
       "      <td>F</td>\n",
       "      <td>Product development manager</td>\n",
       "      <td>No</td>\n",
       "      <td>Divorced</td>\n",
       "      <td>1</td>\n",
       "      <td>1</td>\n",
       "      <td>1</td>\n",
       "      <td>1</td>\n",
       "      <td>0</td>\n",
       "      <td>0</td>\n",
       "      <td>0</td>\n",
       "      <td>0</td>\n",
       "    </tr>\n",
       "    <tr>\n",
       "      <td>5</td>\n",
       "      <td>3</td>\n",
       "      <td>1</td>\n",
       "      <td>New York City and Northern New Jersey</td>\n",
       "      <td>Vaughn Copeland</td>\n",
       "      <td>30</td>\n",
       "      <td>M</td>\n",
       "      <td>Field service technician</td>\n",
       "      <td>No</td>\n",
       "      <td>Divorced</td>\n",
       "      <td>1</td>\n",
       "      <td>1</td>\n",
       "      <td>1</td>\n",
       "      <td>1</td>\n",
       "      <td>0</td>\n",
       "      <td>0</td>\n",
       "      <td>0</td>\n",
       "      <td>0</td>\n",
       "    </tr>\n",
       "    <tr>\n",
       "      <td>6</td>\n",
       "      <td>4</td>\n",
       "      <td>2</td>\n",
       "      <td>New York City and Northern New Jersey</td>\n",
       "      <td>Jaclyn Methuen</td>\n",
       "      <td>30</td>\n",
       "      <td>F</td>\n",
       "      <td>Vodka saleswoman</td>\n",
       "      <td>Yes</td>\n",
       "      <td>Divorced</td>\n",
       "      <td>1</td>\n",
       "      <td>1</td>\n",
       "      <td>1</td>\n",
       "      <td>1</td>\n",
       "      <td>0</td>\n",
       "      <td>0</td>\n",
       "      <td>0</td>\n",
       "      <td>0</td>\n",
       "    </tr>\n",
       "    <tr>\n",
       "      <td>7</td>\n",
       "      <td>4</td>\n",
       "      <td>2</td>\n",
       "      <td>New York City and Northern New Jersey</td>\n",
       "      <td>Ryan Ranellone</td>\n",
       "      <td>28</td>\n",
       "      <td>M</td>\n",
       "      <td>Real estate agent</td>\n",
       "      <td>Yes</td>\n",
       "      <td>Divorced</td>\n",
       "      <td>1</td>\n",
       "      <td>1</td>\n",
       "      <td>1</td>\n",
       "      <td>1</td>\n",
       "      <td>0</td>\n",
       "      <td>0</td>\n",
       "      <td>0</td>\n",
       "      <td>0</td>\n",
       "    </tr>\n",
       "    <tr>\n",
       "      <td>8</td>\n",
       "      <td>5</td>\n",
       "      <td>2</td>\n",
       "      <td>New York City and Northern New Jersey</td>\n",
       "      <td>Davina Kullar (now Davis)</td>\n",
       "      <td>34</td>\n",
       "      <td>F</td>\n",
       "      <td>Pharmaceutical saleswoman</td>\n",
       "      <td>No</td>\n",
       "      <td>Divorced</td>\n",
       "      <td>1</td>\n",
       "      <td>1</td>\n",
       "      <td>1</td>\n",
       "      <td>1</td>\n",
       "      <td>0</td>\n",
       "      <td>0</td>\n",
       "      <td>0</td>\n",
       "      <td>0</td>\n",
       "    </tr>\n",
       "    <tr>\n",
       "      <td>9</td>\n",
       "      <td>5</td>\n",
       "      <td>2</td>\n",
       "      <td>New York City and Northern New Jersey</td>\n",
       "      <td>Sean Varricchio</td>\n",
       "      <td>35</td>\n",
       "      <td>M</td>\n",
       "      <td>Trauma nurse</td>\n",
       "      <td>No</td>\n",
       "      <td>Divorced</td>\n",
       "      <td>1</td>\n",
       "      <td>1</td>\n",
       "      <td>1</td>\n",
       "      <td>1</td>\n",
       "      <td>0</td>\n",
       "      <td>0</td>\n",
       "      <td>0</td>\n",
       "      <td>0</td>\n",
       "    </tr>\n",
       "    <tr>\n",
       "      <td>10</td>\n",
       "      <td>6</td>\n",
       "      <td>2</td>\n",
       "      <td>New York City and Northern New Jersey</td>\n",
       "      <td>Jessica Castro</td>\n",
       "      <td>30</td>\n",
       "      <td>F</td>\n",
       "      <td>Receptionist</td>\n",
       "      <td>Yes</td>\n",
       "      <td>Divorced</td>\n",
       "      <td>1</td>\n",
       "      <td>1</td>\n",
       "      <td>1</td>\n",
       "      <td>1</td>\n",
       "      <td>0</td>\n",
       "      <td>0</td>\n",
       "      <td>0</td>\n",
       "      <td>0</td>\n",
       "    </tr>\n",
       "    <tr>\n",
       "      <td>11</td>\n",
       "      <td>6</td>\n",
       "      <td>2</td>\n",
       "      <td>New York City and Northern New Jersey</td>\n",
       "      <td>Ryan DeNino/Oehl</td>\n",
       "      <td>29</td>\n",
       "      <td>M</td>\n",
       "      <td>Businessman</td>\n",
       "      <td>Yes</td>\n",
       "      <td>Divorced</td>\n",
       "      <td>1</td>\n",
       "      <td>1</td>\n",
       "      <td>1</td>\n",
       "      <td>1</td>\n",
       "      <td>0</td>\n",
       "      <td>0</td>\n",
       "      <td>0</td>\n",
       "      <td>0</td>\n",
       "    </tr>\n",
       "    <tr>\n",
       "      <td>12</td>\n",
       "      <td>7</td>\n",
       "      <td>3</td>\n",
       "      <td>Atlanta, Georgia</td>\n",
       "      <td>Vanessa Nelson</td>\n",
       "      <td>26</td>\n",
       "      <td>F</td>\n",
       "      <td>Event manager</td>\n",
       "      <td>Yes</td>\n",
       "      <td>Divorced</td>\n",
       "      <td>1</td>\n",
       "      <td>1</td>\n",
       "      <td>1</td>\n",
       "      <td>1</td>\n",
       "      <td>0</td>\n",
       "      <td>0</td>\n",
       "      <td>0</td>\n",
       "      <td>0</td>\n",
       "    </tr>\n",
       "    <tr>\n",
       "      <td>13</td>\n",
       "      <td>7</td>\n",
       "      <td>3</td>\n",
       "      <td>Atlanta, Georgia</td>\n",
       "      <td>Tres Russell</td>\n",
       "      <td>27</td>\n",
       "      <td>M</td>\n",
       "      <td>Luxury car salesman</td>\n",
       "      <td>Yes</td>\n",
       "      <td>Divorced</td>\n",
       "      <td>1</td>\n",
       "      <td>1</td>\n",
       "      <td>1</td>\n",
       "      <td>1</td>\n",
       "      <td>0</td>\n",
       "      <td>0</td>\n",
       "      <td>0</td>\n",
       "      <td>0</td>\n",
       "    </tr>\n",
       "    <tr>\n",
       "      <td>14</td>\n",
       "      <td>8</td>\n",
       "      <td>3</td>\n",
       "      <td>Atlanta, Georgia</td>\n",
       "      <td>Ashley Doherty</td>\n",
       "      <td>30</td>\n",
       "      <td>F</td>\n",
       "      <td>Nursing student</td>\n",
       "      <td>No</td>\n",
       "      <td>Divorced</td>\n",
       "      <td>1</td>\n",
       "      <td>1</td>\n",
       "      <td>1</td>\n",
       "      <td>1</td>\n",
       "      <td>0</td>\n",
       "      <td>0</td>\n",
       "      <td>0</td>\n",
       "      <td>0</td>\n",
       "    </tr>\n",
       "    <tr>\n",
       "      <td>15</td>\n",
       "      <td>8</td>\n",
       "      <td>3</td>\n",
       "      <td>Atlanta, Georgia</td>\n",
       "      <td>David Norton</td>\n",
       "      <td>29</td>\n",
       "      <td>M</td>\n",
       "      <td>Software account executive</td>\n",
       "      <td>Yes</td>\n",
       "      <td>Divorced</td>\n",
       "      <td>1</td>\n",
       "      <td>1</td>\n",
       "      <td>1</td>\n",
       "      <td>1</td>\n",
       "      <td>0</td>\n",
       "      <td>0</td>\n",
       "      <td>0</td>\n",
       "      <td>0</td>\n",
       "    </tr>\n",
       "    <tr>\n",
       "      <td>16</td>\n",
       "      <td>9</td>\n",
       "      <td>3</td>\n",
       "      <td>Atlanta, Georgia</td>\n",
       "      <td>Samantha Role</td>\n",
       "      <td>30</td>\n",
       "      <td>F</td>\n",
       "      <td>Bank manager</td>\n",
       "      <td>Yes</td>\n",
       "      <td>Divorced</td>\n",
       "      <td>1</td>\n",
       "      <td>1</td>\n",
       "      <td>1</td>\n",
       "      <td>1</td>\n",
       "      <td>0</td>\n",
       "      <td>0</td>\n",
       "      <td>0</td>\n",
       "      <td>0</td>\n",
       "    </tr>\n",
       "    <tr>\n",
       "      <td>17</td>\n",
       "      <td>9</td>\n",
       "      <td>3</td>\n",
       "      <td>Atlanta, Georgia</td>\n",
       "      <td>Neil Bowlus</td>\n",
       "      <td>31</td>\n",
       "      <td>M</td>\n",
       "      <td>Compliance specialist</td>\n",
       "      <td>Yes</td>\n",
       "      <td>Divorced</td>\n",
       "      <td>1</td>\n",
       "      <td>1</td>\n",
       "      <td>1</td>\n",
       "      <td>1</td>\n",
       "      <td>0</td>\n",
       "      <td>0</td>\n",
       "      <td>0</td>\n",
       "      <td>0</td>\n",
       "    </tr>\n",
       "    <tr>\n",
       "      <td>18</td>\n",
       "      <td>10</td>\n",
       "      <td>4</td>\n",
       "      <td>South Florida</td>\n",
       "      <td>Sonia Granados</td>\n",
       "      <td>33</td>\n",
       "      <td>F</td>\n",
       "      <td>Social worker</td>\n",
       "      <td>Yes</td>\n",
       "      <td>Divorced</td>\n",
       "      <td>1</td>\n",
       "      <td>0</td>\n",
       "      <td>0</td>\n",
       "      <td>0</td>\n",
       "      <td>1</td>\n",
       "      <td>1</td>\n",
       "      <td>0</td>\n",
       "      <td>0</td>\n",
       "    </tr>\n",
       "    <tr>\n",
       "      <td>19</td>\n",
       "      <td>10</td>\n",
       "      <td>4</td>\n",
       "      <td>South Florida</td>\n",
       "      <td>Nick Pendergrast</td>\n",
       "      <td>32</td>\n",
       "      <td>M</td>\n",
       "      <td>Vacation rental manager</td>\n",
       "      <td>Yes</td>\n",
       "      <td>Divorced</td>\n",
       "      <td>1</td>\n",
       "      <td>0</td>\n",
       "      <td>0</td>\n",
       "      <td>0</td>\n",
       "      <td>1</td>\n",
       "      <td>1</td>\n",
       "      <td>0</td>\n",
       "      <td>0</td>\n",
       "    </tr>\n",
       "    <tr>\n",
       "      <td>20</td>\n",
       "      <td>11</td>\n",
       "      <td>4</td>\n",
       "      <td>South Florida</td>\n",
       "      <td>Heather Seidel</td>\n",
       "      <td>32</td>\n",
       "      <td>F</td>\n",
       "      <td>Flight attendant</td>\n",
       "      <td>No</td>\n",
       "      <td>Divorced</td>\n",
       "      <td>1</td>\n",
       "      <td>0</td>\n",
       "      <td>0</td>\n",
       "      <td>0</td>\n",
       "      <td>1</td>\n",
       "      <td>1</td>\n",
       "      <td>0</td>\n",
       "      <td>0</td>\n",
       "    </tr>\n",
       "    <tr>\n",
       "      <td>21</td>\n",
       "      <td>11</td>\n",
       "      <td>4</td>\n",
       "      <td>South Florida</td>\n",
       "      <td>Derek Schwartz</td>\n",
       "      <td>35</td>\n",
       "      <td>M</td>\n",
       "      <td>Account executive</td>\n",
       "      <td>No</td>\n",
       "      <td>Divorced</td>\n",
       "      <td>1</td>\n",
       "      <td>0</td>\n",
       "      <td>0</td>\n",
       "      <td>0</td>\n",
       "      <td>1</td>\n",
       "      <td>1</td>\n",
       "      <td>0</td>\n",
       "      <td>0</td>\n",
       "    </tr>\n",
       "    <tr>\n",
       "      <td>22</td>\n",
       "      <td>12</td>\n",
       "      <td>4</td>\n",
       "      <td>South Florida</td>\n",
       "      <td>Lillian Vilchez</td>\n",
       "      <td>24</td>\n",
       "      <td>F</td>\n",
       "      <td>Realtor</td>\n",
       "      <td>Yes</td>\n",
       "      <td>Divorced</td>\n",
       "      <td>1</td>\n",
       "      <td>0</td>\n",
       "      <td>0</td>\n",
       "      <td>0</td>\n",
       "      <td>1</td>\n",
       "      <td>1</td>\n",
       "      <td>0</td>\n",
       "      <td>0</td>\n",
       "    </tr>\n",
       "    <tr>\n",
       "      <td>23</td>\n",
       "      <td>12</td>\n",
       "      <td>4</td>\n",
       "      <td>South Florida</td>\n",
       "      <td>Tom Wilson</td>\n",
       "      <td>29</td>\n",
       "      <td>M</td>\n",
       "      <td>Boat interior designer</td>\n",
       "      <td>Yes</td>\n",
       "      <td>Divorced</td>\n",
       "      <td>1</td>\n",
       "      <td>0</td>\n",
       "      <td>0</td>\n",
       "      <td>0</td>\n",
       "      <td>1</td>\n",
       "      <td>1</td>\n",
       "      <td>0</td>\n",
       "      <td>0</td>\n",
       "    </tr>\n",
       "    <tr>\n",
       "      <td>24</td>\n",
       "      <td>13</td>\n",
       "      <td>5</td>\n",
       "      <td>Chicago, Illinois</td>\n",
       "      <td>Danielle DeGroot</td>\n",
       "      <td>30</td>\n",
       "      <td>F</td>\n",
       "      <td>Dietician</td>\n",
       "      <td>Yes</td>\n",
       "      <td>Divorced</td>\n",
       "      <td>1</td>\n",
       "      <td>0</td>\n",
       "      <td>0</td>\n",
       "      <td>0</td>\n",
       "      <td>1</td>\n",
       "      <td>1</td>\n",
       "      <td>0</td>\n",
       "      <td>0</td>\n",
       "    </tr>\n",
       "    <tr>\n",
       "      <td>25</td>\n",
       "      <td>13</td>\n",
       "      <td>5</td>\n",
       "      <td>Chicago, Illinois</td>\n",
       "      <td>Cody Knapek</td>\n",
       "      <td>26</td>\n",
       "      <td>M</td>\n",
       "      <td>Trainer / gym owner</td>\n",
       "      <td>Yes</td>\n",
       "      <td>Divorced</td>\n",
       "      <td>1</td>\n",
       "      <td>0</td>\n",
       "      <td>0</td>\n",
       "      <td>0</td>\n",
       "      <td>1</td>\n",
       "      <td>1</td>\n",
       "      <td>0</td>\n",
       "      <td>0</td>\n",
       "    </tr>\n",
       "    <tr>\n",
       "      <td>26</td>\n",
       "      <td>14</td>\n",
       "      <td>5</td>\n",
       "      <td>Chicago, Illinois</td>\n",
       "      <td>Sheila Downs</td>\n",
       "      <td>31</td>\n",
       "      <td>F</td>\n",
       "      <td>School district facility director</td>\n",
       "      <td>Yes</td>\n",
       "      <td>Divorced</td>\n",
       "      <td>1</td>\n",
       "      <td>0</td>\n",
       "      <td>0</td>\n",
       "      <td>0</td>\n",
       "      <td>1</td>\n",
       "      <td>1</td>\n",
       "      <td>0</td>\n",
       "      <td>0</td>\n",
       "    </tr>\n",
       "    <tr>\n",
       "      <td>27</td>\n",
       "      <td>14</td>\n",
       "      <td>5</td>\n",
       "      <td>Chicago, Illinois</td>\n",
       "      <td>Nate Duhon</td>\n",
       "      <td>26</td>\n",
       "      <td>M</td>\n",
       "      <td>Branch manager of a car rental company</td>\n",
       "      <td>Yes</td>\n",
       "      <td>Divorced</td>\n",
       "      <td>1</td>\n",
       "      <td>0</td>\n",
       "      <td>0</td>\n",
       "      <td>0</td>\n",
       "      <td>1</td>\n",
       "      <td>1</td>\n",
       "      <td>0</td>\n",
       "      <td>0</td>\n",
       "    </tr>\n",
       "    <tr>\n",
       "      <td>28</td>\n",
       "      <td>15</td>\n",
       "      <td>5</td>\n",
       "      <td>Chicago, Illinois</td>\n",
       "      <td>Ashley Petta</td>\n",
       "      <td>30</td>\n",
       "      <td>F</td>\n",
       "      <td>Manager of family-owned bar &amp; grill</td>\n",
       "      <td>Yes</td>\n",
       "      <td>Married</td>\n",
       "      <td>1</td>\n",
       "      <td>0</td>\n",
       "      <td>0</td>\n",
       "      <td>0</td>\n",
       "      <td>1</td>\n",
       "      <td>1</td>\n",
       "      <td>0</td>\n",
       "      <td>0</td>\n",
       "    </tr>\n",
       "    <tr>\n",
       "      <td>29</td>\n",
       "      <td>15</td>\n",
       "      <td>5</td>\n",
       "      <td>Chicago, Illinois</td>\n",
       "      <td>Anthony D'Amico</td>\n",
       "      <td>33</td>\n",
       "      <td>M</td>\n",
       "      <td>Sale account executive</td>\n",
       "      <td>Yes</td>\n",
       "      <td>Married</td>\n",
       "      <td>1</td>\n",
       "      <td>0</td>\n",
       "      <td>0</td>\n",
       "      <td>0</td>\n",
       "      <td>1</td>\n",
       "      <td>1</td>\n",
       "      <td>0</td>\n",
       "      <td>0</td>\n",
       "    </tr>\n",
       "    <tr>\n",
       "      <td>30</td>\n",
       "      <td>16</td>\n",
       "      <td>6</td>\n",
       "      <td>Boston, Massachusetts</td>\n",
       "      <td>Shawniece Jackson</td>\n",
       "      <td>29</td>\n",
       "      <td>F</td>\n",
       "      <td>Cosmetologist</td>\n",
       "      <td>Yes</td>\n",
       "      <td>Married</td>\n",
       "      <td>1</td>\n",
       "      <td>0</td>\n",
       "      <td>0</td>\n",
       "      <td>0</td>\n",
       "      <td>1</td>\n",
       "      <td>0</td>\n",
       "      <td>1</td>\n",
       "      <td>0</td>\n",
       "    </tr>\n",
       "    <tr>\n",
       "      <td>31</td>\n",
       "      <td>16</td>\n",
       "      <td>6</td>\n",
       "      <td>Boston, Massachusetts</td>\n",
       "      <td>Jephte Pierre</td>\n",
       "      <td>26</td>\n",
       "      <td>M</td>\n",
       "      <td>2nd grade school teacher</td>\n",
       "      <td>Yes</td>\n",
       "      <td>Married</td>\n",
       "      <td>1</td>\n",
       "      <td>0</td>\n",
       "      <td>0</td>\n",
       "      <td>0</td>\n",
       "      <td>1</td>\n",
       "      <td>0</td>\n",
       "      <td>1</td>\n",
       "      <td>0</td>\n",
       "    </tr>\n",
       "    <tr>\n",
       "      <td>32</td>\n",
       "      <td>17</td>\n",
       "      <td>6</td>\n",
       "      <td>Boston, Massachusetts</td>\n",
       "      <td>Molly Duff</td>\n",
       "      <td>25</td>\n",
       "      <td>F</td>\n",
       "      <td>Commercial insurance adjuster</td>\n",
       "      <td>No</td>\n",
       "      <td>Divorced</td>\n",
       "      <td>1</td>\n",
       "      <td>0</td>\n",
       "      <td>0</td>\n",
       "      <td>0</td>\n",
       "      <td>1</td>\n",
       "      <td>0</td>\n",
       "      <td>1</td>\n",
       "      <td>0</td>\n",
       "    </tr>\n",
       "    <tr>\n",
       "      <td>33</td>\n",
       "      <td>17</td>\n",
       "      <td>6</td>\n",
       "      <td>Boston, Massachusetts</td>\n",
       "      <td>Jonathan Francetic</td>\n",
       "      <td>28</td>\n",
       "      <td>M</td>\n",
       "      <td>Financial associate</td>\n",
       "      <td>No</td>\n",
       "      <td>Divorced</td>\n",
       "      <td>1</td>\n",
       "      <td>0</td>\n",
       "      <td>0</td>\n",
       "      <td>0</td>\n",
       "      <td>1</td>\n",
       "      <td>0</td>\n",
       "      <td>1</td>\n",
       "      <td>0</td>\n",
       "    </tr>\n",
       "    <tr>\n",
       "      <td>34</td>\n",
       "      <td>18</td>\n",
       "      <td>6</td>\n",
       "      <td>Boston, Massachusetts</td>\n",
       "      <td>Jaclyn Schwartzberg</td>\n",
       "      <td>29</td>\n",
       "      <td>F</td>\n",
       "      <td>Technical sales representative</td>\n",
       "      <td>Yes</td>\n",
       "      <td>Divorced</td>\n",
       "      <td>1</td>\n",
       "      <td>0</td>\n",
       "      <td>0</td>\n",
       "      <td>0</td>\n",
       "      <td>1</td>\n",
       "      <td>0</td>\n",
       "      <td>1</td>\n",
       "      <td>0</td>\n",
       "    </tr>\n",
       "    <tr>\n",
       "      <td>35</td>\n",
       "      <td>18</td>\n",
       "      <td>6</td>\n",
       "      <td>Boston, Massachusetts</td>\n",
       "      <td>Ryan Buckley</td>\n",
       "      <td>29</td>\n",
       "      <td>M</td>\n",
       "      <td>Firefighter</td>\n",
       "      <td>Yes</td>\n",
       "      <td>Divorced</td>\n",
       "      <td>1</td>\n",
       "      <td>0</td>\n",
       "      <td>0</td>\n",
       "      <td>0</td>\n",
       "      <td>1</td>\n",
       "      <td>0</td>\n",
       "      <td>1</td>\n",
       "      <td>0</td>\n",
       "    </tr>\n",
       "    <tr>\n",
       "      <td>36</td>\n",
       "      <td>19</td>\n",
       "      <td>7</td>\n",
       "      <td>Dallas, Texas</td>\n",
       "      <td>Mia Bally</td>\n",
       "      <td>29</td>\n",
       "      <td>F</td>\n",
       "      <td>International recruiter of an airline</td>\n",
       "      <td>Yes</td>\n",
       "      <td>Divorced</td>\n",
       "      <td>1</td>\n",
       "      <td>0</td>\n",
       "      <td>0</td>\n",
       "      <td>0</td>\n",
       "      <td>1</td>\n",
       "      <td>0</td>\n",
       "      <td>1</td>\n",
       "      <td>0</td>\n",
       "    </tr>\n",
       "    <tr>\n",
       "      <td>37</td>\n",
       "      <td>19</td>\n",
       "      <td>7</td>\n",
       "      <td>Dallas, Texas</td>\n",
       "      <td>Tristan Thompson</td>\n",
       "      <td>29</td>\n",
       "      <td>M</td>\n",
       "      <td>Tutoring club owner</td>\n",
       "      <td>Yes</td>\n",
       "      <td>Divorced</td>\n",
       "      <td>1</td>\n",
       "      <td>0</td>\n",
       "      <td>0</td>\n",
       "      <td>0</td>\n",
       "      <td>1</td>\n",
       "      <td>0</td>\n",
       "      <td>1</td>\n",
       "      <td>0</td>\n",
       "    </tr>\n",
       "    <tr>\n",
       "      <td>38</td>\n",
       "      <td>20</td>\n",
       "      <td>7</td>\n",
       "      <td>Dallas, Texas</td>\n",
       "      <td>Danielle Bergman-Dodd</td>\n",
       "      <td>30</td>\n",
       "      <td>F</td>\n",
       "      <td>Software saleswoman</td>\n",
       "      <td>Yes</td>\n",
       "      <td>Married</td>\n",
       "      <td>1</td>\n",
       "      <td>0</td>\n",
       "      <td>0</td>\n",
       "      <td>0</td>\n",
       "      <td>1</td>\n",
       "      <td>0</td>\n",
       "      <td>1</td>\n",
       "      <td>0</td>\n",
       "    </tr>\n",
       "    <tr>\n",
       "      <td>39</td>\n",
       "      <td>20</td>\n",
       "      <td>7</td>\n",
       "      <td>Dallas, Texas</td>\n",
       "      <td>Bobby Dodd</td>\n",
       "      <td>27</td>\n",
       "      <td>M</td>\n",
       "      <td>Construction project manager</td>\n",
       "      <td>Yes</td>\n",
       "      <td>Married</td>\n",
       "      <td>1</td>\n",
       "      <td>0</td>\n",
       "      <td>0</td>\n",
       "      <td>0</td>\n",
       "      <td>1</td>\n",
       "      <td>0</td>\n",
       "      <td>1</td>\n",
       "      <td>0</td>\n",
       "    </tr>\n",
       "    <tr>\n",
       "      <td>40</td>\n",
       "      <td>21</td>\n",
       "      <td>7</td>\n",
       "      <td>Dallas, Texas</td>\n",
       "      <td>Amber Martorana</td>\n",
       "      <td>36</td>\n",
       "      <td>F</td>\n",
       "      <td>Senior title analyst</td>\n",
       "      <td>Yes</td>\n",
       "      <td>Divorced</td>\n",
       "      <td>1</td>\n",
       "      <td>0</td>\n",
       "      <td>0</td>\n",
       "      <td>0</td>\n",
       "      <td>1</td>\n",
       "      <td>0</td>\n",
       "      <td>1</td>\n",
       "      <td>0</td>\n",
       "    </tr>\n",
       "    <tr>\n",
       "      <td>41</td>\n",
       "      <td>21</td>\n",
       "      <td>7</td>\n",
       "      <td>Dallas, Texas</td>\n",
       "      <td>Dave Flaherty</td>\n",
       "      <td>37</td>\n",
       "      <td>M</td>\n",
       "      <td>High yield bond trader</td>\n",
       "      <td>Yes</td>\n",
       "      <td>Divorced</td>\n",
       "      <td>1</td>\n",
       "      <td>0</td>\n",
       "      <td>0</td>\n",
       "      <td>0</td>\n",
       "      <td>1</td>\n",
       "      <td>0</td>\n",
       "      <td>1</td>\n",
       "      <td>0</td>\n",
       "    </tr>\n",
       "    <tr>\n",
       "      <td>42</td>\n",
       "      <td>22</td>\n",
       "      <td>8</td>\n",
       "      <td>Philadelphia, Pennsylvania</td>\n",
       "      <td>Stephanie Sersen</td>\n",
       "      <td>35</td>\n",
       "      <td>F</td>\n",
       "      <td>Financial consultant</td>\n",
       "      <td>Yes</td>\n",
       "      <td>Married</td>\n",
       "      <td>1</td>\n",
       "      <td>0</td>\n",
       "      <td>0</td>\n",
       "      <td>0</td>\n",
       "      <td>1</td>\n",
       "      <td>0</td>\n",
       "      <td>1</td>\n",
       "      <td>0</td>\n",
       "    </tr>\n",
       "    <tr>\n",
       "      <td>43</td>\n",
       "      <td>22</td>\n",
       "      <td>8</td>\n",
       "      <td>Philadelphia, Pennsylvania</td>\n",
       "      <td>AJ Vollmoeller</td>\n",
       "      <td>37</td>\n",
       "      <td>M</td>\n",
       "      <td>President &amp; CEO of a staffing &amp; recruiting com...</td>\n",
       "      <td>Yes</td>\n",
       "      <td>Married</td>\n",
       "      <td>1</td>\n",
       "      <td>0</td>\n",
       "      <td>0</td>\n",
       "      <td>0</td>\n",
       "      <td>1</td>\n",
       "      <td>0</td>\n",
       "      <td>1</td>\n",
       "      <td>0</td>\n",
       "    </tr>\n",
       "    <tr>\n",
       "      <td>44</td>\n",
       "      <td>23</td>\n",
       "      <td>8</td>\n",
       "      <td>Philadelphia, Pennsylvania</td>\n",
       "      <td>Jasmine McGriff</td>\n",
       "      <td>30</td>\n",
       "      <td>F</td>\n",
       "      <td>Assistant director</td>\n",
       "      <td>Yes</td>\n",
       "      <td>Divorced</td>\n",
       "      <td>1</td>\n",
       "      <td>0</td>\n",
       "      <td>0</td>\n",
       "      <td>0</td>\n",
       "      <td>1</td>\n",
       "      <td>0</td>\n",
       "      <td>1</td>\n",
       "      <td>0</td>\n",
       "    </tr>\n",
       "    <tr>\n",
       "      <td>45</td>\n",
       "      <td>23</td>\n",
       "      <td>8</td>\n",
       "      <td>Philadelphia, Pennsylvania</td>\n",
       "      <td>Will Guess</td>\n",
       "      <td>37</td>\n",
       "      <td>M</td>\n",
       "      <td>Financial analyst</td>\n",
       "      <td>No</td>\n",
       "      <td>Divorced</td>\n",
       "      <td>1</td>\n",
       "      <td>0</td>\n",
       "      <td>0</td>\n",
       "      <td>0</td>\n",
       "      <td>1</td>\n",
       "      <td>0</td>\n",
       "      <td>1</td>\n",
       "      <td>0</td>\n",
       "    </tr>\n",
       "    <tr>\n",
       "      <td>46</td>\n",
       "      <td>24</td>\n",
       "      <td>8</td>\n",
       "      <td>Philadelphia, Pennsylvania</td>\n",
       "      <td>Kate Sisk</td>\n",
       "      <td>28</td>\n",
       "      <td>F</td>\n",
       "      <td>Hotel marketing specialist</td>\n",
       "      <td>No</td>\n",
       "      <td>Divorced</td>\n",
       "      <td>1</td>\n",
       "      <td>0</td>\n",
       "      <td>0</td>\n",
       "      <td>0</td>\n",
       "      <td>1</td>\n",
       "      <td>0</td>\n",
       "      <td>1</td>\n",
       "      <td>0</td>\n",
       "    </tr>\n",
       "    <tr>\n",
       "      <td>47</td>\n",
       "      <td>24</td>\n",
       "      <td>8</td>\n",
       "      <td>Philadelphia, Pennsylvania</td>\n",
       "      <td>Luke Cuccurullo</td>\n",
       "      <td>31</td>\n",
       "      <td>M</td>\n",
       "      <td>Civil and environmental engineer</td>\n",
       "      <td>No</td>\n",
       "      <td>Divorced</td>\n",
       "      <td>1</td>\n",
       "      <td>0</td>\n",
       "      <td>0</td>\n",
       "      <td>0</td>\n",
       "      <td>1</td>\n",
       "      <td>0</td>\n",
       "      <td>1</td>\n",
       "      <td>0</td>\n",
       "    </tr>\n",
       "    <tr>\n",
       "      <td>48</td>\n",
       "      <td>25</td>\n",
       "      <td>8</td>\n",
       "      <td>Philadelphia, Pennsylvania</td>\n",
       "      <td>Kristine Killingsworth</td>\n",
       "      <td>29</td>\n",
       "      <td>F</td>\n",
       "      <td>Residential real estate agent</td>\n",
       "      <td>Yes</td>\n",
       "      <td>Married</td>\n",
       "      <td>1</td>\n",
       "      <td>0</td>\n",
       "      <td>0</td>\n",
       "      <td>0</td>\n",
       "      <td>1</td>\n",
       "      <td>0</td>\n",
       "      <td>1</td>\n",
       "      <td>0</td>\n",
       "    </tr>\n",
       "    <tr>\n",
       "      <td>49</td>\n",
       "      <td>25</td>\n",
       "      <td>8</td>\n",
       "      <td>Philadelphia, Pennsylvania</td>\n",
       "      <td>Keith Dewar</td>\n",
       "      <td>29</td>\n",
       "      <td>M</td>\n",
       "      <td>Kidney dialysis patient care technician</td>\n",
       "      <td>Yes</td>\n",
       "      <td>Married</td>\n",
       "      <td>1</td>\n",
       "      <td>0</td>\n",
       "      <td>0</td>\n",
       "      <td>0</td>\n",
       "      <td>1</td>\n",
       "      <td>0</td>\n",
       "      <td>1</td>\n",
       "      <td>0</td>\n",
       "    </tr>\n",
       "  </tbody>\n",
       "</table>\n",
       "</div>"
      ],
      "text/plain": [
       "    Couple  Season                               Location  \\\n",
       "0        1       1  New York City and Northern New Jersey   \n",
       "1        1       1  New York City and Northern New Jersey   \n",
       "2        2       1  New York City and Northern New Jersey   \n",
       "3        2       1  New York City and Northern New Jersey   \n",
       "4        3       1  New York City and Northern New Jersey   \n",
       "5        3       1  New York City and Northern New Jersey   \n",
       "6        4       2  New York City and Northern New Jersey   \n",
       "7        4       2  New York City and Northern New Jersey   \n",
       "8        5       2  New York City and Northern New Jersey   \n",
       "9        5       2  New York City and Northern New Jersey   \n",
       "10       6       2  New York City and Northern New Jersey   \n",
       "11       6       2  New York City and Northern New Jersey   \n",
       "12       7       3                       Atlanta, Georgia   \n",
       "13       7       3                       Atlanta, Georgia   \n",
       "14       8       3                       Atlanta, Georgia   \n",
       "15       8       3                       Atlanta, Georgia   \n",
       "16       9       3                       Atlanta, Georgia   \n",
       "17       9       3                       Atlanta, Georgia   \n",
       "18      10       4                          South Florida   \n",
       "19      10       4                          South Florida   \n",
       "20      11       4                          South Florida   \n",
       "21      11       4                          South Florida   \n",
       "22      12       4                          South Florida   \n",
       "23      12       4                          South Florida   \n",
       "24      13       5                      Chicago, Illinois   \n",
       "25      13       5                      Chicago, Illinois   \n",
       "26      14       5                      Chicago, Illinois   \n",
       "27      14       5                      Chicago, Illinois   \n",
       "28      15       5                      Chicago, Illinois   \n",
       "29      15       5                      Chicago, Illinois   \n",
       "30      16       6                  Boston, Massachusetts   \n",
       "31      16       6                  Boston, Massachusetts   \n",
       "32      17       6                  Boston, Massachusetts   \n",
       "33      17       6                  Boston, Massachusetts   \n",
       "34      18       6                  Boston, Massachusetts   \n",
       "35      18       6                  Boston, Massachusetts   \n",
       "36      19       7                          Dallas, Texas   \n",
       "37      19       7                          Dallas, Texas   \n",
       "38      20       7                          Dallas, Texas   \n",
       "39      20       7                          Dallas, Texas   \n",
       "40      21       7                          Dallas, Texas   \n",
       "41      21       7                          Dallas, Texas   \n",
       "42      22       8             Philadelphia, Pennsylvania   \n",
       "43      22       8             Philadelphia, Pennsylvania   \n",
       "44      23       8             Philadelphia, Pennsylvania   \n",
       "45      23       8             Philadelphia, Pennsylvania   \n",
       "46      24       8             Philadelphia, Pennsylvania   \n",
       "47      24       8             Philadelphia, Pennsylvania   \n",
       "48      25       8             Philadelphia, Pennsylvania   \n",
       "49      25       8             Philadelphia, Pennsylvania   \n",
       "\n",
       "                         Name  Age Gender  \\\n",
       "0           Jamie Otis-Hehner   27      F   \n",
       "1                 Doug Hehner   31      M   \n",
       "2             Cortney Hendrix   26      F   \n",
       "3               Jason Carrion   27      M   \n",
       "4                  Monet Bell   33      F   \n",
       "5             Vaughn Copeland   30      M   \n",
       "6              Jaclyn Methuen   30      F   \n",
       "7              Ryan Ranellone   28      M   \n",
       "8   Davina Kullar (now Davis)   34      F   \n",
       "9             Sean Varricchio   35      M   \n",
       "10             Jessica Castro   30      F   \n",
       "11           Ryan DeNino/Oehl   29      M   \n",
       "12             Vanessa Nelson   26      F   \n",
       "13               Tres Russell   27      M   \n",
       "14             Ashley Doherty   30      F   \n",
       "15               David Norton   29      M   \n",
       "16              Samantha Role   30      F   \n",
       "17                Neil Bowlus   31      M   \n",
       "18             Sonia Granados   33      F   \n",
       "19           Nick Pendergrast   32      M   \n",
       "20             Heather Seidel   32      F   \n",
       "21             Derek Schwartz   35      M   \n",
       "22            Lillian Vilchez   24      F   \n",
       "23                 Tom Wilson   29      M   \n",
       "24           Danielle DeGroot   30      F   \n",
       "25                Cody Knapek   26      M   \n",
       "26               Sheila Downs   31      F   \n",
       "27                 Nate Duhon   26      M   \n",
       "28               Ashley Petta   30      F   \n",
       "29            Anthony D'Amico   33      M   \n",
       "30          Shawniece Jackson   29      F   \n",
       "31              Jephte Pierre   26      M   \n",
       "32                 Molly Duff   25      F   \n",
       "33         Jonathan Francetic   28      M   \n",
       "34        Jaclyn Schwartzberg   29      F   \n",
       "35               Ryan Buckley   29      M   \n",
       "36                  Mia Bally   29      F   \n",
       "37           Tristan Thompson   29      M   \n",
       "38      Danielle Bergman-Dodd   30      F   \n",
       "39                 Bobby Dodd   27      M   \n",
       "40            Amber Martorana   36      F   \n",
       "41              Dave Flaherty   37      M   \n",
       "42           Stephanie Sersen   35      F   \n",
       "43             AJ Vollmoeller   37      M   \n",
       "44            Jasmine McGriff   30      F   \n",
       "45                 Will Guess   37      M   \n",
       "46                  Kate Sisk   28      F   \n",
       "47            Luke Cuccurullo   31      M   \n",
       "48     Kristine Killingsworth   29      F   \n",
       "49                Keith Dewar   29      M   \n",
       "\n",
       "                                           Occupation Decision    Status  \\\n",
       "0                                               Nurse      Yes   Married   \n",
       "1                                   Software salesman      Yes   Married   \n",
       "2                                      Make-up artist      Yes  Divorced   \n",
       "3                                             Fireman      Yes  Divorced   \n",
       "4                         Product development manager       No  Divorced   \n",
       "5                            Field service technician       No  Divorced   \n",
       "6                                    Vodka saleswoman      Yes  Divorced   \n",
       "7                                   Real estate agent      Yes  Divorced   \n",
       "8                           Pharmaceutical saleswoman       No  Divorced   \n",
       "9                                        Trauma nurse       No  Divorced   \n",
       "10                                       Receptionist      Yes  Divorced   \n",
       "11                                        Businessman      Yes  Divorced   \n",
       "12                                      Event manager      Yes  Divorced   \n",
       "13                                Luxury car salesman      Yes  Divorced   \n",
       "14                                    Nursing student       No  Divorced   \n",
       "15                         Software account executive      Yes  Divorced   \n",
       "16                                       Bank manager      Yes  Divorced   \n",
       "17                              Compliance specialist      Yes  Divorced   \n",
       "18                                      Social worker      Yes  Divorced   \n",
       "19                            Vacation rental manager      Yes  Divorced   \n",
       "20                                   Flight attendant       No  Divorced   \n",
       "21                                  Account executive       No  Divorced   \n",
       "22                                            Realtor      Yes  Divorced   \n",
       "23                             Boat interior designer      Yes  Divorced   \n",
       "24                                          Dietician      Yes  Divorced   \n",
       "25                                Trainer / gym owner      Yes  Divorced   \n",
       "26                  School district facility director      Yes  Divorced   \n",
       "27             Branch manager of a car rental company      Yes  Divorced   \n",
       "28                Manager of family-owned bar & grill      Yes   Married   \n",
       "29                             Sale account executive      Yes   Married   \n",
       "30                                      Cosmetologist      Yes   Married   \n",
       "31                           2nd grade school teacher      Yes   Married   \n",
       "32                      Commercial insurance adjuster       No  Divorced   \n",
       "33                                Financial associate       No  Divorced   \n",
       "34                     Technical sales representative      Yes  Divorced   \n",
       "35                                        Firefighter      Yes  Divorced   \n",
       "36              International recruiter of an airline      Yes  Divorced   \n",
       "37                                Tutoring club owner      Yes  Divorced   \n",
       "38                                Software saleswoman      Yes   Married   \n",
       "39                       Construction project manager      Yes   Married   \n",
       "40                               Senior title analyst      Yes  Divorced   \n",
       "41                             High yield bond trader      Yes  Divorced   \n",
       "42                               Financial consultant      Yes   Married   \n",
       "43  President & CEO of a staffing & recruiting com...      Yes   Married   \n",
       "44                                 Assistant director      Yes  Divorced   \n",
       "45                                  Financial analyst       No  Divorced   \n",
       "46                         Hotel marketing specialist       No  Divorced   \n",
       "47                   Civil and environmental engineer       No  Divorced   \n",
       "48                      Residential real estate agent      Yes   Married   \n",
       "49            Kidney dialysis patient care technician      Yes   Married   \n",
       "\n",
       "    DrPepperSchwartz  DrLoganLevkoff  DrJosephCilona  ChaplainGregEpstein  \\\n",
       "0                  1               1               1                    1   \n",
       "1                  1               1               1                    1   \n",
       "2                  1               1               1                    1   \n",
       "3                  1               1               1                    1   \n",
       "4                  1               1               1                    1   \n",
       "5                  1               1               1                    1   \n",
       "6                  1               1               1                    1   \n",
       "7                  1               1               1                    1   \n",
       "8                  1               1               1                    1   \n",
       "9                  1               1               1                    1   \n",
       "10                 1               1               1                    1   \n",
       "11                 1               1               1                    1   \n",
       "12                 1               1               1                    1   \n",
       "13                 1               1               1                    1   \n",
       "14                 1               1               1                    1   \n",
       "15                 1               1               1                    1   \n",
       "16                 1               1               1                    1   \n",
       "17                 1               1               1                    1   \n",
       "18                 1               0               0                    0   \n",
       "19                 1               0               0                    0   \n",
       "20                 1               0               0                    0   \n",
       "21                 1               0               0                    0   \n",
       "22                 1               0               0                    0   \n",
       "23                 1               0               0                    0   \n",
       "24                 1               0               0                    0   \n",
       "25                 1               0               0                    0   \n",
       "26                 1               0               0                    0   \n",
       "27                 1               0               0                    0   \n",
       "28                 1               0               0                    0   \n",
       "29                 1               0               0                    0   \n",
       "30                 1               0               0                    0   \n",
       "31                 1               0               0                    0   \n",
       "32                 1               0               0                    0   \n",
       "33                 1               0               0                    0   \n",
       "34                 1               0               0                    0   \n",
       "35                 1               0               0                    0   \n",
       "36                 1               0               0                    0   \n",
       "37                 1               0               0                    0   \n",
       "38                 1               0               0                    0   \n",
       "39                 1               0               0                    0   \n",
       "40                 1               0               0                    0   \n",
       "41                 1               0               0                    0   \n",
       "42                 1               0               0                    0   \n",
       "43                 1               0               0                    0   \n",
       "44                 1               0               0                    0   \n",
       "45                 1               0               0                    0   \n",
       "46                 1               0               0                    0   \n",
       "47                 1               0               0                    0   \n",
       "48                 1               0               0                    0   \n",
       "49                 1               0               0                    0   \n",
       "\n",
       "    PastorCalvinRoberson  RachelDeAlto  DrJessicaGriffin  DrVivianaColes  \n",
       "0                      0             0                 0               0  \n",
       "1                      0             0                 0               0  \n",
       "2                      0             0                 0               0  \n",
       "3                      0             0                 0               0  \n",
       "4                      0             0                 0               0  \n",
       "5                      0             0                 0               0  \n",
       "6                      0             0                 0               0  \n",
       "7                      0             0                 0               0  \n",
       "8                      0             0                 0               0  \n",
       "9                      0             0                 0               0  \n",
       "10                     0             0                 0               0  \n",
       "11                     0             0                 0               0  \n",
       "12                     0             0                 0               0  \n",
       "13                     0             0                 0               0  \n",
       "14                     0             0                 0               0  \n",
       "15                     0             0                 0               0  \n",
       "16                     0             0                 0               0  \n",
       "17                     0             0                 0               0  \n",
       "18                     1             1                 0               0  \n",
       "19                     1             1                 0               0  \n",
       "20                     1             1                 0               0  \n",
       "21                     1             1                 0               0  \n",
       "22                     1             1                 0               0  \n",
       "23                     1             1                 0               0  \n",
       "24                     1             1                 0               0  \n",
       "25                     1             1                 0               0  \n",
       "26                     1             1                 0               0  \n",
       "27                     1             1                 0               0  \n",
       "28                     1             1                 0               0  \n",
       "29                     1             1                 0               0  \n",
       "30                     1             0                 1               0  \n",
       "31                     1             0                 1               0  \n",
       "32                     1             0                 1               0  \n",
       "33                     1             0                 1               0  \n",
       "34                     1             0                 1               0  \n",
       "35                     1             0                 1               0  \n",
       "36                     1             0                 1               0  \n",
       "37                     1             0                 1               0  \n",
       "38                     1             0                 1               0  \n",
       "39                     1             0                 1               0  \n",
       "40                     1             0                 1               0  \n",
       "41                     1             0                 1               0  \n",
       "42                     1             0                 1               0  \n",
       "43                     1             0                 1               0  \n",
       "44                     1             0                 1               0  \n",
       "45                     1             0                 1               0  \n",
       "46                     1             0                 1               0  \n",
       "47                     1             0                 1               0  \n",
       "48                     1             0                 1               0  \n",
       "49                     1             0                 1               0  "
      ]
     },
     "execution_count": 3,
     "metadata": {},
     "output_type": "execute_result"
    }
   ],
   "source": [
    "df_new_mafs.head(50)"
   ]
  },
  {
   "cell_type": "code",
   "execution_count": 4,
   "metadata": {},
   "outputs": [
    {
     "data": {
      "application/vnd.plotly.v1+json": {
       "config": {
        "linkText": "Export to plot.ly",
        "plotlyServerURL": "https://plot.ly",
        "showLink": false
       },
       "data": [
        {
         "name": "Decision",
         "type": "scatter",
         "x": [
          "Married",
          "Married",
          "Divorced",
          "Divorced",
          "Divorced",
          "Divorced",
          "Divorced",
          "Divorced",
          "Divorced",
          "Divorced",
          "Divorced",
          "Divorced",
          "Divorced",
          "Divorced",
          "Divorced",
          "Divorced",
          "Divorced",
          "Divorced",
          "Divorced",
          "Divorced",
          "Divorced",
          "Divorced",
          "Divorced",
          "Divorced",
          "Divorced",
          "Divorced",
          "Divorced",
          "Divorced",
          "Married",
          "Married",
          "Married",
          "Married",
          "Divorced",
          "Divorced",
          "Divorced",
          "Divorced",
          "Divorced",
          "Divorced",
          "Married",
          "Married",
          "Divorced",
          "Divorced",
          "Married",
          "Married",
          "Divorced",
          "Divorced",
          "Divorced",
          "Divorced",
          "Married",
          "Married"
         ],
         "y": [
          "Nurse",
          "Software salesman",
          "Make-up artist",
          "Fireman",
          "Product development manager",
          "Field service technician",
          "Vodka saleswoman",
          "Real estate agent",
          "Pharmaceutical saleswoman",
          "Trauma nurse",
          "Receptionist",
          "Businessman",
          "Event manager",
          "Luxury car salesman",
          "Nursing student",
          "Software account executive",
          "Bank manager",
          "Compliance specialist",
          "Social worker",
          "Vacation rental manager",
          "Flight attendant",
          "Account executive",
          "Realtor",
          "Boat interior designer",
          "Dietician",
          "Trainer / gym owner",
          "School district facility director",
          "Branch manager of a car rental company",
          "Manager of family-owned bar & grill",
          "Sale account executive",
          "Cosmetologist",
          "2nd grade school teacher",
          "Commercial insurance adjuster",
          "Financial associate",
          "Technical sales representative",
          "Firefighter",
          "International recruiter of an airline",
          "Tutoring club owner",
          "Software saleswoman",
          "Construction project manager",
          "Senior title analyst",
          "High yield bond trader",
          "Financial consultant",
          "President & CEO of a staffing & recruiting company",
          "Assistant director",
          "Financial analyst",
          "Hotel marketing specialist",
          "Civil and environmental engineer",
          "Residential real estate agent",
          "Kidney dialysis patient care technician"
         ]
        }
       ],
       "layout": {
        "plot_bgcolor": "rgb(230, 230, 230)",
        "showlegend": true,
        "template": {
         "data": {
          "bar": [
           {
            "error_x": {
             "color": "#2a3f5f"
            },
            "error_y": {
             "color": "#2a3f5f"
            },
            "marker": {
             "line": {
              "color": "#E5ECF6",
              "width": 0.5
             }
            },
            "type": "bar"
           }
          ],
          "barpolar": [
           {
            "marker": {
             "line": {
              "color": "#E5ECF6",
              "width": 0.5
             }
            },
            "type": "barpolar"
           }
          ],
          "carpet": [
           {
            "aaxis": {
             "endlinecolor": "#2a3f5f",
             "gridcolor": "white",
             "linecolor": "white",
             "minorgridcolor": "white",
             "startlinecolor": "#2a3f5f"
            },
            "baxis": {
             "endlinecolor": "#2a3f5f",
             "gridcolor": "white",
             "linecolor": "white",
             "minorgridcolor": "white",
             "startlinecolor": "#2a3f5f"
            },
            "type": "carpet"
           }
          ],
          "choropleth": [
           {
            "colorbar": {
             "outlinewidth": 0,
             "ticks": ""
            },
            "type": "choropleth"
           }
          ],
          "contour": [
           {
            "colorbar": {
             "outlinewidth": 0,
             "ticks": ""
            },
            "colorscale": [
             [
              0,
              "#0d0887"
             ],
             [
              0.1111111111111111,
              "#46039f"
             ],
             [
              0.2222222222222222,
              "#7201a8"
             ],
             [
              0.3333333333333333,
              "#9c179e"
             ],
             [
              0.4444444444444444,
              "#bd3786"
             ],
             [
              0.5555555555555556,
              "#d8576b"
             ],
             [
              0.6666666666666666,
              "#ed7953"
             ],
             [
              0.7777777777777778,
              "#fb9f3a"
             ],
             [
              0.8888888888888888,
              "#fdca26"
             ],
             [
              1,
              "#f0f921"
             ]
            ],
            "type": "contour"
           }
          ],
          "contourcarpet": [
           {
            "colorbar": {
             "outlinewidth": 0,
             "ticks": ""
            },
            "type": "contourcarpet"
           }
          ],
          "heatmap": [
           {
            "colorbar": {
             "outlinewidth": 0,
             "ticks": ""
            },
            "colorscale": [
             [
              0,
              "#0d0887"
             ],
             [
              0.1111111111111111,
              "#46039f"
             ],
             [
              0.2222222222222222,
              "#7201a8"
             ],
             [
              0.3333333333333333,
              "#9c179e"
             ],
             [
              0.4444444444444444,
              "#bd3786"
             ],
             [
              0.5555555555555556,
              "#d8576b"
             ],
             [
              0.6666666666666666,
              "#ed7953"
             ],
             [
              0.7777777777777778,
              "#fb9f3a"
             ],
             [
              0.8888888888888888,
              "#fdca26"
             ],
             [
              1,
              "#f0f921"
             ]
            ],
            "type": "heatmap"
           }
          ],
          "heatmapgl": [
           {
            "colorbar": {
             "outlinewidth": 0,
             "ticks": ""
            },
            "colorscale": [
             [
              0,
              "#0d0887"
             ],
             [
              0.1111111111111111,
              "#46039f"
             ],
             [
              0.2222222222222222,
              "#7201a8"
             ],
             [
              0.3333333333333333,
              "#9c179e"
             ],
             [
              0.4444444444444444,
              "#bd3786"
             ],
             [
              0.5555555555555556,
              "#d8576b"
             ],
             [
              0.6666666666666666,
              "#ed7953"
             ],
             [
              0.7777777777777778,
              "#fb9f3a"
             ],
             [
              0.8888888888888888,
              "#fdca26"
             ],
             [
              1,
              "#f0f921"
             ]
            ],
            "type": "heatmapgl"
           }
          ],
          "histogram": [
           {
            "marker": {
             "colorbar": {
              "outlinewidth": 0,
              "ticks": ""
             }
            },
            "type": "histogram"
           }
          ],
          "histogram2d": [
           {
            "colorbar": {
             "outlinewidth": 0,
             "ticks": ""
            },
            "colorscale": [
             [
              0,
              "#0d0887"
             ],
             [
              0.1111111111111111,
              "#46039f"
             ],
             [
              0.2222222222222222,
              "#7201a8"
             ],
             [
              0.3333333333333333,
              "#9c179e"
             ],
             [
              0.4444444444444444,
              "#bd3786"
             ],
             [
              0.5555555555555556,
              "#d8576b"
             ],
             [
              0.6666666666666666,
              "#ed7953"
             ],
             [
              0.7777777777777778,
              "#fb9f3a"
             ],
             [
              0.8888888888888888,
              "#fdca26"
             ],
             [
              1,
              "#f0f921"
             ]
            ],
            "type": "histogram2d"
           }
          ],
          "histogram2dcontour": [
           {
            "colorbar": {
             "outlinewidth": 0,
             "ticks": ""
            },
            "colorscale": [
             [
              0,
              "#0d0887"
             ],
             [
              0.1111111111111111,
              "#46039f"
             ],
             [
              0.2222222222222222,
              "#7201a8"
             ],
             [
              0.3333333333333333,
              "#9c179e"
             ],
             [
              0.4444444444444444,
              "#bd3786"
             ],
             [
              0.5555555555555556,
              "#d8576b"
             ],
             [
              0.6666666666666666,
              "#ed7953"
             ],
             [
              0.7777777777777778,
              "#fb9f3a"
             ],
             [
              0.8888888888888888,
              "#fdca26"
             ],
             [
              1,
              "#f0f921"
             ]
            ],
            "type": "histogram2dcontour"
           }
          ],
          "mesh3d": [
           {
            "colorbar": {
             "outlinewidth": 0,
             "ticks": ""
            },
            "type": "mesh3d"
           }
          ],
          "parcoords": [
           {
            "line": {
             "colorbar": {
              "outlinewidth": 0,
              "ticks": ""
             }
            },
            "type": "parcoords"
           }
          ],
          "pie": [
           {
            "automargin": true,
            "type": "pie"
           }
          ],
          "scatter": [
           {
            "marker": {
             "colorbar": {
              "outlinewidth": 0,
              "ticks": ""
             }
            },
            "type": "scatter"
           }
          ],
          "scatter3d": [
           {
            "line": {
             "colorbar": {
              "outlinewidth": 0,
              "ticks": ""
             }
            },
            "marker": {
             "colorbar": {
              "outlinewidth": 0,
              "ticks": ""
             }
            },
            "type": "scatter3d"
           }
          ],
          "scattercarpet": [
           {
            "marker": {
             "colorbar": {
              "outlinewidth": 0,
              "ticks": ""
             }
            },
            "type": "scattercarpet"
           }
          ],
          "scattergeo": [
           {
            "marker": {
             "colorbar": {
              "outlinewidth": 0,
              "ticks": ""
             }
            },
            "type": "scattergeo"
           }
          ],
          "scattergl": [
           {
            "marker": {
             "colorbar": {
              "outlinewidth": 0,
              "ticks": ""
             }
            },
            "type": "scattergl"
           }
          ],
          "scattermapbox": [
           {
            "marker": {
             "colorbar": {
              "outlinewidth": 0,
              "ticks": ""
             }
            },
            "type": "scattermapbox"
           }
          ],
          "scatterpolar": [
           {
            "marker": {
             "colorbar": {
              "outlinewidth": 0,
              "ticks": ""
             }
            },
            "type": "scatterpolar"
           }
          ],
          "scatterpolargl": [
           {
            "marker": {
             "colorbar": {
              "outlinewidth": 0,
              "ticks": ""
             }
            },
            "type": "scatterpolargl"
           }
          ],
          "scatterternary": [
           {
            "marker": {
             "colorbar": {
              "outlinewidth": 0,
              "ticks": ""
             }
            },
            "type": "scatterternary"
           }
          ],
          "surface": [
           {
            "colorbar": {
             "outlinewidth": 0,
             "ticks": ""
            },
            "colorscale": [
             [
              0,
              "#0d0887"
             ],
             [
              0.1111111111111111,
              "#46039f"
             ],
             [
              0.2222222222222222,
              "#7201a8"
             ],
             [
              0.3333333333333333,
              "#9c179e"
             ],
             [
              0.4444444444444444,
              "#bd3786"
             ],
             [
              0.5555555555555556,
              "#d8576b"
             ],
             [
              0.6666666666666666,
              "#ed7953"
             ],
             [
              0.7777777777777778,
              "#fb9f3a"
             ],
             [
              0.8888888888888888,
              "#fdca26"
             ],
             [
              1,
              "#f0f921"
             ]
            ],
            "type": "surface"
           }
          ],
          "table": [
           {
            "cells": {
             "fill": {
              "color": "#EBF0F8"
             },
             "line": {
              "color": "white"
             }
            },
            "header": {
             "fill": {
              "color": "#C8D4E3"
             },
             "line": {
              "color": "white"
             }
            },
            "type": "table"
           }
          ]
         },
         "layout": {
          "annotationdefaults": {
           "arrowcolor": "#2a3f5f",
           "arrowhead": 0,
           "arrowwidth": 1
          },
          "coloraxis": {
           "colorbar": {
            "outlinewidth": 0,
            "ticks": ""
           }
          },
          "colorscale": {
           "diverging": [
            [
             0,
             "#8e0152"
            ],
            [
             0.1,
             "#c51b7d"
            ],
            [
             0.2,
             "#de77ae"
            ],
            [
             0.3,
             "#f1b6da"
            ],
            [
             0.4,
             "#fde0ef"
            ],
            [
             0.5,
             "#f7f7f7"
            ],
            [
             0.6,
             "#e6f5d0"
            ],
            [
             0.7,
             "#b8e186"
            ],
            [
             0.8,
             "#7fbc41"
            ],
            [
             0.9,
             "#4d9221"
            ],
            [
             1,
             "#276419"
            ]
           ],
           "sequential": [
            [
             0,
             "#0d0887"
            ],
            [
             0.1111111111111111,
             "#46039f"
            ],
            [
             0.2222222222222222,
             "#7201a8"
            ],
            [
             0.3333333333333333,
             "#9c179e"
            ],
            [
             0.4444444444444444,
             "#bd3786"
            ],
            [
             0.5555555555555556,
             "#d8576b"
            ],
            [
             0.6666666666666666,
             "#ed7953"
            ],
            [
             0.7777777777777778,
             "#fb9f3a"
            ],
            [
             0.8888888888888888,
             "#fdca26"
            ],
            [
             1,
             "#f0f921"
            ]
           ],
           "sequentialminus": [
            [
             0,
             "#0d0887"
            ],
            [
             0.1111111111111111,
             "#46039f"
            ],
            [
             0.2222222222222222,
             "#7201a8"
            ],
            [
             0.3333333333333333,
             "#9c179e"
            ],
            [
             0.4444444444444444,
             "#bd3786"
            ],
            [
             0.5555555555555556,
             "#d8576b"
            ],
            [
             0.6666666666666666,
             "#ed7953"
            ],
            [
             0.7777777777777778,
             "#fb9f3a"
            ],
            [
             0.8888888888888888,
             "#fdca26"
            ],
            [
             1,
             "#f0f921"
            ]
           ]
          },
          "colorway": [
           "#636efa",
           "#EF553B",
           "#00cc96",
           "#ab63fa",
           "#FFA15A",
           "#19d3f3",
           "#FF6692",
           "#B6E880",
           "#FF97FF",
           "#FECB52"
          ],
          "font": {
           "color": "#2a3f5f"
          },
          "geo": {
           "bgcolor": "white",
           "lakecolor": "white",
           "landcolor": "#E5ECF6",
           "showlakes": true,
           "showland": true,
           "subunitcolor": "white"
          },
          "hoverlabel": {
           "align": "left"
          },
          "hovermode": "closest",
          "mapbox": {
           "style": "light"
          },
          "paper_bgcolor": "white",
          "plot_bgcolor": "#E5ECF6",
          "polar": {
           "angularaxis": {
            "gridcolor": "white",
            "linecolor": "white",
            "ticks": ""
           },
           "bgcolor": "#E5ECF6",
           "radialaxis": {
            "gridcolor": "white",
            "linecolor": "white",
            "ticks": ""
           }
          },
          "scene": {
           "xaxis": {
            "backgroundcolor": "#E5ECF6",
            "gridcolor": "white",
            "gridwidth": 2,
            "linecolor": "white",
            "showbackground": true,
            "ticks": "",
            "zerolinecolor": "white"
           },
           "yaxis": {
            "backgroundcolor": "#E5ECF6",
            "gridcolor": "white",
            "gridwidth": 2,
            "linecolor": "white",
            "showbackground": true,
            "ticks": "",
            "zerolinecolor": "white"
           },
           "zaxis": {
            "backgroundcolor": "#E5ECF6",
            "gridcolor": "white",
            "gridwidth": 2,
            "linecolor": "white",
            "showbackground": true,
            "ticks": "",
            "zerolinecolor": "white"
           }
          },
          "shapedefaults": {
           "line": {
            "color": "#2a3f5f"
           }
          },
          "ternary": {
           "aaxis": {
            "gridcolor": "white",
            "linecolor": "white",
            "ticks": ""
           },
           "baxis": {
            "gridcolor": "white",
            "linecolor": "white",
            "ticks": ""
           },
           "bgcolor": "#E5ECF6",
           "caxis": {
            "gridcolor": "white",
            "linecolor": "white",
            "ticks": ""
           }
          },
          "title": {
           "x": 0.05
          },
          "xaxis": {
           "automargin": true,
           "gridcolor": "white",
           "linecolor": "white",
           "ticks": "",
           "title": {
            "standoff": 15
           },
           "zerolinecolor": "white",
           "zerolinewidth": 2
          },
          "yaxis": {
           "automargin": true,
           "gridcolor": "white",
           "linecolor": "white",
           "ticks": "",
           "title": {
            "standoff": 15
           },
           "zerolinecolor": "white",
           "zerolinewidth": 2
          }
         }
        },
        "title": {
         "text": "married at first sight"
        }
       }
      },
      "text/html": [
       "<div>\n",
       "        \n",
       "        \n",
       "            <div id=\"b58251b4-3dea-4d82-9ed6-43c98655f876\" class=\"plotly-graph-div\" style=\"height:525px; width:100%;\"></div>\n",
       "            <script type=\"text/javascript\">\n",
       "                require([\"plotly\"], function(Plotly) {\n",
       "                    window.PLOTLYENV=window.PLOTLYENV || {};\n",
       "                    \n",
       "                if (document.getElementById(\"b58251b4-3dea-4d82-9ed6-43c98655f876\")) {\n",
       "                    Plotly.newPlot(\n",
       "                        'b58251b4-3dea-4d82-9ed6-43c98655f876',\n",
       "                        [{\"name\": \"Decision\", \"type\": \"scatter\", \"x\": [\"Married\", \"Married\", \"Divorced\", \"Divorced\", \"Divorced\", \"Divorced\", \"Divorced\", \"Divorced\", \"Divorced\", \"Divorced\", \"Divorced\", \"Divorced\", \"Divorced\", \"Divorced\", \"Divorced\", \"Divorced\", \"Divorced\", \"Divorced\", \"Divorced\", \"Divorced\", \"Divorced\", \"Divorced\", \"Divorced\", \"Divorced\", \"Divorced\", \"Divorced\", \"Divorced\", \"Divorced\", \"Married\", \"Married\", \"Married\", \"Married\", \"Divorced\", \"Divorced\", \"Divorced\", \"Divorced\", \"Divorced\", \"Divorced\", \"Married\", \"Married\", \"Divorced\", \"Divorced\", \"Married\", \"Married\", \"Divorced\", \"Divorced\", \"Divorced\", \"Divorced\", \"Married\", \"Married\"], \"y\": [\"Nurse\", \"Software salesman\", \"Make-up artist\", \"Fireman\", \"Product development manager\", \"Field service technician\", \"Vodka saleswoman\", \"Real estate agent\", \"Pharmaceutical saleswoman\", \"Trauma nurse\", \"Receptionist\", \"Businessman\", \"Event manager\", \"Luxury car salesman\", \"Nursing student\", \"Software account executive\", \"Bank manager\", \"Compliance specialist\", \"Social worker\", \"Vacation rental manager\", \"Flight attendant\", \"Account executive\", \"Realtor\", \"Boat interior designer\", \"Dietician\", \"Trainer / gym owner\", \"School district facility director\", \"Branch manager of a car rental company\", \"Manager of family-owned bar & grill\", \"Sale account executive\", \"Cosmetologist\", \"2nd grade school teacher\", \"Commercial insurance adjuster\", \"Financial associate\", \"Technical sales representative\", \"Firefighter\", \"International recruiter of an airline\", \"Tutoring club owner\", \"Software saleswoman\", \"Construction project manager\", \"Senior title analyst\", \"High yield bond trader\", \"Financial consultant\", \"President & CEO of a staffing & recruiting company\", \"Assistant director\", \"Financial analyst\", \"Hotel marketing specialist\", \"Civil and environmental engineer\", \"Residential real estate agent\", \"Kidney dialysis patient care technician\"]}],\n",
       "                        {\"plot_bgcolor\": \"rgb(230, 230, 230)\", \"showlegend\": true, \"template\": {\"data\": {\"bar\": [{\"error_x\": {\"color\": \"#2a3f5f\"}, \"error_y\": {\"color\": \"#2a3f5f\"}, \"marker\": {\"line\": {\"color\": \"#E5ECF6\", \"width\": 0.5}}, \"type\": \"bar\"}], \"barpolar\": [{\"marker\": {\"line\": {\"color\": \"#E5ECF6\", \"width\": 0.5}}, \"type\": \"barpolar\"}], \"carpet\": [{\"aaxis\": {\"endlinecolor\": \"#2a3f5f\", \"gridcolor\": \"white\", \"linecolor\": \"white\", \"minorgridcolor\": \"white\", \"startlinecolor\": \"#2a3f5f\"}, \"baxis\": {\"endlinecolor\": \"#2a3f5f\", \"gridcolor\": \"white\", \"linecolor\": \"white\", \"minorgridcolor\": \"white\", \"startlinecolor\": \"#2a3f5f\"}, \"type\": \"carpet\"}], \"choropleth\": [{\"colorbar\": {\"outlinewidth\": 0, \"ticks\": \"\"}, \"type\": \"choropleth\"}], \"contour\": [{\"colorbar\": {\"outlinewidth\": 0, \"ticks\": \"\"}, \"colorscale\": [[0.0, \"#0d0887\"], [0.1111111111111111, \"#46039f\"], [0.2222222222222222, \"#7201a8\"], [0.3333333333333333, \"#9c179e\"], [0.4444444444444444, \"#bd3786\"], [0.5555555555555556, \"#d8576b\"], [0.6666666666666666, \"#ed7953\"], [0.7777777777777778, \"#fb9f3a\"], [0.8888888888888888, \"#fdca26\"], [1.0, \"#f0f921\"]], \"type\": \"contour\"}], \"contourcarpet\": [{\"colorbar\": {\"outlinewidth\": 0, \"ticks\": \"\"}, \"type\": \"contourcarpet\"}], \"heatmap\": [{\"colorbar\": {\"outlinewidth\": 0, \"ticks\": \"\"}, \"colorscale\": [[0.0, \"#0d0887\"], [0.1111111111111111, \"#46039f\"], [0.2222222222222222, \"#7201a8\"], [0.3333333333333333, \"#9c179e\"], [0.4444444444444444, \"#bd3786\"], [0.5555555555555556, \"#d8576b\"], [0.6666666666666666, \"#ed7953\"], [0.7777777777777778, \"#fb9f3a\"], [0.8888888888888888, \"#fdca26\"], [1.0, \"#f0f921\"]], \"type\": \"heatmap\"}], \"heatmapgl\": [{\"colorbar\": {\"outlinewidth\": 0, \"ticks\": \"\"}, \"colorscale\": [[0.0, \"#0d0887\"], [0.1111111111111111, \"#46039f\"], [0.2222222222222222, \"#7201a8\"], [0.3333333333333333, \"#9c179e\"], [0.4444444444444444, \"#bd3786\"], [0.5555555555555556, \"#d8576b\"], [0.6666666666666666, \"#ed7953\"], [0.7777777777777778, \"#fb9f3a\"], [0.8888888888888888, \"#fdca26\"], [1.0, \"#f0f921\"]], \"type\": \"heatmapgl\"}], \"histogram\": [{\"marker\": {\"colorbar\": {\"outlinewidth\": 0, \"ticks\": \"\"}}, \"type\": \"histogram\"}], \"histogram2d\": [{\"colorbar\": {\"outlinewidth\": 0, \"ticks\": \"\"}, \"colorscale\": [[0.0, \"#0d0887\"], [0.1111111111111111, \"#46039f\"], [0.2222222222222222, \"#7201a8\"], [0.3333333333333333, \"#9c179e\"], [0.4444444444444444, \"#bd3786\"], [0.5555555555555556, \"#d8576b\"], [0.6666666666666666, \"#ed7953\"], [0.7777777777777778, \"#fb9f3a\"], [0.8888888888888888, \"#fdca26\"], [1.0, \"#f0f921\"]], \"type\": \"histogram2d\"}], \"histogram2dcontour\": [{\"colorbar\": {\"outlinewidth\": 0, \"ticks\": \"\"}, \"colorscale\": [[0.0, \"#0d0887\"], [0.1111111111111111, \"#46039f\"], [0.2222222222222222, \"#7201a8\"], [0.3333333333333333, \"#9c179e\"], [0.4444444444444444, \"#bd3786\"], [0.5555555555555556, \"#d8576b\"], [0.6666666666666666, \"#ed7953\"], [0.7777777777777778, \"#fb9f3a\"], [0.8888888888888888, \"#fdca26\"], [1.0, \"#f0f921\"]], \"type\": \"histogram2dcontour\"}], \"mesh3d\": [{\"colorbar\": {\"outlinewidth\": 0, \"ticks\": \"\"}, \"type\": \"mesh3d\"}], \"parcoords\": [{\"line\": {\"colorbar\": {\"outlinewidth\": 0, \"ticks\": \"\"}}, \"type\": \"parcoords\"}], \"pie\": [{\"automargin\": true, \"type\": \"pie\"}], \"scatter\": [{\"marker\": {\"colorbar\": {\"outlinewidth\": 0, \"ticks\": \"\"}}, \"type\": \"scatter\"}], \"scatter3d\": [{\"line\": {\"colorbar\": {\"outlinewidth\": 0, \"ticks\": \"\"}}, \"marker\": {\"colorbar\": {\"outlinewidth\": 0, \"ticks\": \"\"}}, \"type\": \"scatter3d\"}], \"scattercarpet\": [{\"marker\": {\"colorbar\": {\"outlinewidth\": 0, \"ticks\": \"\"}}, \"type\": \"scattercarpet\"}], \"scattergeo\": [{\"marker\": {\"colorbar\": {\"outlinewidth\": 0, \"ticks\": \"\"}}, \"type\": \"scattergeo\"}], \"scattergl\": [{\"marker\": {\"colorbar\": {\"outlinewidth\": 0, \"ticks\": \"\"}}, \"type\": \"scattergl\"}], \"scattermapbox\": [{\"marker\": {\"colorbar\": {\"outlinewidth\": 0, \"ticks\": \"\"}}, \"type\": \"scattermapbox\"}], \"scatterpolar\": [{\"marker\": {\"colorbar\": {\"outlinewidth\": 0, \"ticks\": \"\"}}, \"type\": \"scatterpolar\"}], \"scatterpolargl\": [{\"marker\": {\"colorbar\": {\"outlinewidth\": 0, \"ticks\": \"\"}}, \"type\": \"scatterpolargl\"}], \"scatterternary\": [{\"marker\": {\"colorbar\": {\"outlinewidth\": 0, \"ticks\": \"\"}}, \"type\": \"scatterternary\"}], \"surface\": [{\"colorbar\": {\"outlinewidth\": 0, \"ticks\": \"\"}, \"colorscale\": [[0.0, \"#0d0887\"], [0.1111111111111111, \"#46039f\"], [0.2222222222222222, \"#7201a8\"], [0.3333333333333333, \"#9c179e\"], [0.4444444444444444, \"#bd3786\"], [0.5555555555555556, \"#d8576b\"], [0.6666666666666666, \"#ed7953\"], [0.7777777777777778, \"#fb9f3a\"], [0.8888888888888888, \"#fdca26\"], [1.0, \"#f0f921\"]], \"type\": \"surface\"}], \"table\": [{\"cells\": {\"fill\": {\"color\": \"#EBF0F8\"}, \"line\": {\"color\": \"white\"}}, \"header\": {\"fill\": {\"color\": \"#C8D4E3\"}, \"line\": {\"color\": \"white\"}}, \"type\": \"table\"}]}, \"layout\": {\"annotationdefaults\": {\"arrowcolor\": \"#2a3f5f\", \"arrowhead\": 0, \"arrowwidth\": 1}, \"coloraxis\": {\"colorbar\": {\"outlinewidth\": 0, \"ticks\": \"\"}}, \"colorscale\": {\"diverging\": [[0, \"#8e0152\"], [0.1, \"#c51b7d\"], [0.2, \"#de77ae\"], [0.3, \"#f1b6da\"], [0.4, \"#fde0ef\"], [0.5, \"#f7f7f7\"], [0.6, \"#e6f5d0\"], [0.7, \"#b8e186\"], [0.8, \"#7fbc41\"], [0.9, \"#4d9221\"], [1, \"#276419\"]], \"sequential\": [[0.0, \"#0d0887\"], [0.1111111111111111, \"#46039f\"], [0.2222222222222222, \"#7201a8\"], [0.3333333333333333, \"#9c179e\"], [0.4444444444444444, \"#bd3786\"], [0.5555555555555556, \"#d8576b\"], [0.6666666666666666, \"#ed7953\"], [0.7777777777777778, \"#fb9f3a\"], [0.8888888888888888, \"#fdca26\"], [1.0, \"#f0f921\"]], \"sequentialminus\": [[0.0, \"#0d0887\"], [0.1111111111111111, \"#46039f\"], [0.2222222222222222, \"#7201a8\"], [0.3333333333333333, \"#9c179e\"], [0.4444444444444444, \"#bd3786\"], [0.5555555555555556, \"#d8576b\"], [0.6666666666666666, \"#ed7953\"], [0.7777777777777778, \"#fb9f3a\"], [0.8888888888888888, \"#fdca26\"], [1.0, \"#f0f921\"]]}, \"colorway\": [\"#636efa\", \"#EF553B\", \"#00cc96\", \"#ab63fa\", \"#FFA15A\", \"#19d3f3\", \"#FF6692\", \"#B6E880\", \"#FF97FF\", \"#FECB52\"], \"font\": {\"color\": \"#2a3f5f\"}, \"geo\": {\"bgcolor\": \"white\", \"lakecolor\": \"white\", \"landcolor\": \"#E5ECF6\", \"showlakes\": true, \"showland\": true, \"subunitcolor\": \"white\"}, \"hoverlabel\": {\"align\": \"left\"}, \"hovermode\": \"closest\", \"mapbox\": {\"style\": \"light\"}, \"paper_bgcolor\": \"white\", \"plot_bgcolor\": \"#E5ECF6\", \"polar\": {\"angularaxis\": {\"gridcolor\": \"white\", \"linecolor\": \"white\", \"ticks\": \"\"}, \"bgcolor\": \"#E5ECF6\", \"radialaxis\": {\"gridcolor\": \"white\", \"linecolor\": \"white\", \"ticks\": \"\"}}, \"scene\": {\"xaxis\": {\"backgroundcolor\": \"#E5ECF6\", \"gridcolor\": \"white\", \"gridwidth\": 2, \"linecolor\": \"white\", \"showbackground\": true, \"ticks\": \"\", \"zerolinecolor\": \"white\"}, \"yaxis\": {\"backgroundcolor\": \"#E5ECF6\", \"gridcolor\": \"white\", \"gridwidth\": 2, \"linecolor\": \"white\", \"showbackground\": true, \"ticks\": \"\", \"zerolinecolor\": \"white\"}, \"zaxis\": {\"backgroundcolor\": \"#E5ECF6\", \"gridcolor\": \"white\", \"gridwidth\": 2, \"linecolor\": \"white\", \"showbackground\": true, \"ticks\": \"\", \"zerolinecolor\": \"white\"}}, \"shapedefaults\": {\"line\": {\"color\": \"#2a3f5f\"}}, \"ternary\": {\"aaxis\": {\"gridcolor\": \"white\", \"linecolor\": \"white\", \"ticks\": \"\"}, \"baxis\": {\"gridcolor\": \"white\", \"linecolor\": \"white\", \"ticks\": \"\"}, \"bgcolor\": \"#E5ECF6\", \"caxis\": {\"gridcolor\": \"white\", \"linecolor\": \"white\", \"ticks\": \"\"}}, \"title\": {\"x\": 0.05}, \"xaxis\": {\"automargin\": true, \"gridcolor\": \"white\", \"linecolor\": \"white\", \"ticks\": \"\", \"title\": {\"standoff\": 15}, \"zerolinecolor\": \"white\", \"zerolinewidth\": 2}, \"yaxis\": {\"automargin\": true, \"gridcolor\": \"white\", \"linecolor\": \"white\", \"ticks\": \"\", \"title\": {\"standoff\": 15}, \"zerolinecolor\": \"white\", \"zerolinewidth\": 2}}}, \"title\": {\"text\": \"married at first sight\"}},\n",
       "                        {\"responsive\": true}\n",
       "                    ).then(function(){\n",
       "                            \n",
       "var gd = document.getElementById('b58251b4-3dea-4d82-9ed6-43c98655f876');\n",
       "var x = new MutationObserver(function (mutations, observer) {{\n",
       "        var display = window.getComputedStyle(gd).display;\n",
       "        if (!display || display === 'none') {{\n",
       "            console.log([gd, 'removed!']);\n",
       "            Plotly.purge(gd);\n",
       "            observer.disconnect();\n",
       "        }}\n",
       "}});\n",
       "\n",
       "// Listen for the removal of the full notebook cells\n",
       "var notebookContainer = gd.closest('#notebook-container');\n",
       "if (notebookContainer) {{\n",
       "    x.observe(notebookContainer, {childList: true});\n",
       "}}\n",
       "\n",
       "// Listen for the clearing of the current output cell\n",
       "var outputEl = gd.closest('.output');\n",
       "if (outputEl) {{\n",
       "    x.observe(outputEl, {childList: true});\n",
       "}}\n",
       "\n",
       "                        })\n",
       "                };\n",
       "                });\n",
       "            </script>\n",
       "        </div>"
      ]
     },
     "metadata": {},
     "output_type": "display_data"
    }
   ],
   "source": [
    "trace = go.Scatter(x = df_new_mafs['Status'], y = df_new_mafs['Occupation'], \n",
    "                   name = 'Decision')\n",
    "layout = go.Layout(title='married at first sight',\n",
    "                  plot_bgcolor='rgb(230, 230, 230)',\n",
    "                  showlegend=True)\n",
    "fig = go.Figure(data=[trace], layout=layout)\n",
    "py.offline.iplot(fig)\n"
   ]
  },
  {
   "cell_type": "code",
   "execution_count": 5,
   "metadata": {},
   "outputs": [],
   "source": [
    "df_bar_mafs = df_mafs.head(50)"
   ]
  },
  {
   "cell_type": "code",
   "execution_count": 6,
   "metadata": {},
   "outputs": [],
   "source": [
    "trace1 = go.Bar(\n",
    "x = df_bar_mafs['Occupation'], y=df_bar_mafs['Status'],\n",
    "name='Status')\n",
    "trace2 = go.Bar(\n",
    "    x = df_bar_mafs['Occupation'], y=df_bar_mafs['Gender'],\n",
    "name='Gender')"
   ]
  },
  {
   "cell_type": "code",
   "execution_count": 10,
   "metadata": {},
   "outputs": [
    {
     "data": {
      "application/vnd.plotly.v1+json": {
       "config": {
        "linkText": "Export to plot.ly",
        "plotlyServerURL": "https://plot.ly",
        "showLink": false
       },
       "data": [
        {
         "name": "Status",
         "type": "bar",
         "x": [
          "Nurse",
          "Software salesman",
          "Make-up artist",
          "Fireman",
          "Product development manager",
          "Field service technician",
          "Vodka saleswoman",
          "Real estate agent",
          "Pharmaceutical saleswoman",
          "Trauma nurse",
          "Receptionist",
          "Businessman",
          "Event manager",
          "Luxury car salesman",
          "Nursing student",
          "Software account executive",
          "Bank manager",
          "Compliance specialist",
          "Social worker",
          "Vacation rental manager",
          "Flight attendant",
          "Account executive",
          "Realtor",
          "Boat interior designer",
          "Dietician",
          "Trainer / gym owner",
          "School district facility director",
          "Branch manager of a car rental company",
          "Manager of family-owned bar & grill",
          "Sale account executive",
          "Cosmetologist",
          "2nd grade school teacher",
          "Commercial insurance adjuster",
          "Financial associate",
          "Technical sales representative",
          "Firefighter",
          "International recruiter of an airline",
          "Tutoring club owner",
          "Software saleswoman",
          "Construction project manager",
          "Senior title analyst",
          "High yield bond trader",
          "Financial consultant",
          "President & CEO of a staffing & recruiting company",
          "Assistant director",
          "Financial analyst",
          "Hotel marketing specialist",
          "Civil and environmental engineer",
          "Residential real estate agent",
          "Kidney dialysis patient care technician"
         ],
         "y": [
          "Married",
          "Married",
          "Divorced",
          "Divorced",
          "Divorced",
          "Divorced",
          "Divorced",
          "Divorced",
          "Divorced",
          "Divorced",
          "Divorced",
          "Divorced",
          "Divorced",
          "Divorced",
          "Divorced",
          "Divorced",
          "Divorced",
          "Divorced",
          "Divorced",
          "Divorced",
          "Divorced",
          "Divorced",
          "Divorced",
          "Divorced",
          "Divorced",
          "Divorced",
          "Divorced",
          "Divorced",
          "Married",
          "Married",
          "Married",
          "Married",
          "Divorced",
          "Divorced",
          "Divorced",
          "Divorced",
          "Divorced",
          "Divorced",
          "Married",
          "Married",
          "Divorced",
          "Divorced",
          "Married",
          "Married",
          "Divorced",
          "Divorced",
          "Divorced",
          "Divorced",
          "Married",
          "Married"
         ]
        },
        {
         "name": "Gender",
         "type": "bar",
         "x": [
          "Nurse",
          "Software salesman",
          "Make-up artist",
          "Fireman",
          "Product development manager",
          "Field service technician",
          "Vodka saleswoman",
          "Real estate agent",
          "Pharmaceutical saleswoman",
          "Trauma nurse",
          "Receptionist",
          "Businessman",
          "Event manager",
          "Luxury car salesman",
          "Nursing student",
          "Software account executive",
          "Bank manager",
          "Compliance specialist",
          "Social worker",
          "Vacation rental manager",
          "Flight attendant",
          "Account executive",
          "Realtor",
          "Boat interior designer",
          "Dietician",
          "Trainer / gym owner",
          "School district facility director",
          "Branch manager of a car rental company",
          "Manager of family-owned bar & grill",
          "Sale account executive",
          "Cosmetologist",
          "2nd grade school teacher",
          "Commercial insurance adjuster",
          "Financial associate",
          "Technical sales representative",
          "Firefighter",
          "International recruiter of an airline",
          "Tutoring club owner",
          "Software saleswoman",
          "Construction project manager",
          "Senior title analyst",
          "High yield bond trader",
          "Financial consultant",
          "President & CEO of a staffing & recruiting company",
          "Assistant director",
          "Financial analyst",
          "Hotel marketing specialist",
          "Civil and environmental engineer",
          "Residential real estate agent",
          "Kidney dialysis patient care technician"
         ],
         "y": [
          "F",
          "M",
          "F",
          "M",
          "F",
          "M",
          "F",
          "M",
          "F",
          "M",
          "F",
          "M",
          "F",
          "M",
          "F",
          "M",
          "F",
          "M",
          "F",
          "M",
          "F",
          "M",
          "F",
          "M",
          "F",
          "M",
          "F",
          "M",
          "F",
          "M",
          "F",
          "M",
          "F",
          "M",
          "F",
          "M",
          "F",
          "M",
          "F",
          "M",
          "F",
          "M",
          "F",
          "M",
          "F",
          "M",
          "F",
          "M",
          "F",
          "M"
         ]
        }
       ],
       "layout": {
        "barmode": "group",
        "template": {
         "data": {
          "bar": [
           {
            "error_x": {
             "color": "#2a3f5f"
            },
            "error_y": {
             "color": "#2a3f5f"
            },
            "marker": {
             "line": {
              "color": "#E5ECF6",
              "width": 0.5
             }
            },
            "type": "bar"
           }
          ],
          "barpolar": [
           {
            "marker": {
             "line": {
              "color": "#E5ECF6",
              "width": 0.5
             }
            },
            "type": "barpolar"
           }
          ],
          "carpet": [
           {
            "aaxis": {
             "endlinecolor": "#2a3f5f",
             "gridcolor": "white",
             "linecolor": "white",
             "minorgridcolor": "white",
             "startlinecolor": "#2a3f5f"
            },
            "baxis": {
             "endlinecolor": "#2a3f5f",
             "gridcolor": "white",
             "linecolor": "white",
             "minorgridcolor": "white",
             "startlinecolor": "#2a3f5f"
            },
            "type": "carpet"
           }
          ],
          "choropleth": [
           {
            "colorbar": {
             "outlinewidth": 0,
             "ticks": ""
            },
            "type": "choropleth"
           }
          ],
          "contour": [
           {
            "colorbar": {
             "outlinewidth": 0,
             "ticks": ""
            },
            "colorscale": [
             [
              0,
              "#0d0887"
             ],
             [
              0.1111111111111111,
              "#46039f"
             ],
             [
              0.2222222222222222,
              "#7201a8"
             ],
             [
              0.3333333333333333,
              "#9c179e"
             ],
             [
              0.4444444444444444,
              "#bd3786"
             ],
             [
              0.5555555555555556,
              "#d8576b"
             ],
             [
              0.6666666666666666,
              "#ed7953"
             ],
             [
              0.7777777777777778,
              "#fb9f3a"
             ],
             [
              0.8888888888888888,
              "#fdca26"
             ],
             [
              1,
              "#f0f921"
             ]
            ],
            "type": "contour"
           }
          ],
          "contourcarpet": [
           {
            "colorbar": {
             "outlinewidth": 0,
             "ticks": ""
            },
            "type": "contourcarpet"
           }
          ],
          "heatmap": [
           {
            "colorbar": {
             "outlinewidth": 0,
             "ticks": ""
            },
            "colorscale": [
             [
              0,
              "#0d0887"
             ],
             [
              0.1111111111111111,
              "#46039f"
             ],
             [
              0.2222222222222222,
              "#7201a8"
             ],
             [
              0.3333333333333333,
              "#9c179e"
             ],
             [
              0.4444444444444444,
              "#bd3786"
             ],
             [
              0.5555555555555556,
              "#d8576b"
             ],
             [
              0.6666666666666666,
              "#ed7953"
             ],
             [
              0.7777777777777778,
              "#fb9f3a"
             ],
             [
              0.8888888888888888,
              "#fdca26"
             ],
             [
              1,
              "#f0f921"
             ]
            ],
            "type": "heatmap"
           }
          ],
          "heatmapgl": [
           {
            "colorbar": {
             "outlinewidth": 0,
             "ticks": ""
            },
            "colorscale": [
             [
              0,
              "#0d0887"
             ],
             [
              0.1111111111111111,
              "#46039f"
             ],
             [
              0.2222222222222222,
              "#7201a8"
             ],
             [
              0.3333333333333333,
              "#9c179e"
             ],
             [
              0.4444444444444444,
              "#bd3786"
             ],
             [
              0.5555555555555556,
              "#d8576b"
             ],
             [
              0.6666666666666666,
              "#ed7953"
             ],
             [
              0.7777777777777778,
              "#fb9f3a"
             ],
             [
              0.8888888888888888,
              "#fdca26"
             ],
             [
              1,
              "#f0f921"
             ]
            ],
            "type": "heatmapgl"
           }
          ],
          "histogram": [
           {
            "marker": {
             "colorbar": {
              "outlinewidth": 0,
              "ticks": ""
             }
            },
            "type": "histogram"
           }
          ],
          "histogram2d": [
           {
            "colorbar": {
             "outlinewidth": 0,
             "ticks": ""
            },
            "colorscale": [
             [
              0,
              "#0d0887"
             ],
             [
              0.1111111111111111,
              "#46039f"
             ],
             [
              0.2222222222222222,
              "#7201a8"
             ],
             [
              0.3333333333333333,
              "#9c179e"
             ],
             [
              0.4444444444444444,
              "#bd3786"
             ],
             [
              0.5555555555555556,
              "#d8576b"
             ],
             [
              0.6666666666666666,
              "#ed7953"
             ],
             [
              0.7777777777777778,
              "#fb9f3a"
             ],
             [
              0.8888888888888888,
              "#fdca26"
             ],
             [
              1,
              "#f0f921"
             ]
            ],
            "type": "histogram2d"
           }
          ],
          "histogram2dcontour": [
           {
            "colorbar": {
             "outlinewidth": 0,
             "ticks": ""
            },
            "colorscale": [
             [
              0,
              "#0d0887"
             ],
             [
              0.1111111111111111,
              "#46039f"
             ],
             [
              0.2222222222222222,
              "#7201a8"
             ],
             [
              0.3333333333333333,
              "#9c179e"
             ],
             [
              0.4444444444444444,
              "#bd3786"
             ],
             [
              0.5555555555555556,
              "#d8576b"
             ],
             [
              0.6666666666666666,
              "#ed7953"
             ],
             [
              0.7777777777777778,
              "#fb9f3a"
             ],
             [
              0.8888888888888888,
              "#fdca26"
             ],
             [
              1,
              "#f0f921"
             ]
            ],
            "type": "histogram2dcontour"
           }
          ],
          "mesh3d": [
           {
            "colorbar": {
             "outlinewidth": 0,
             "ticks": ""
            },
            "type": "mesh3d"
           }
          ],
          "parcoords": [
           {
            "line": {
             "colorbar": {
              "outlinewidth": 0,
              "ticks": ""
             }
            },
            "type": "parcoords"
           }
          ],
          "pie": [
           {
            "automargin": true,
            "type": "pie"
           }
          ],
          "scatter": [
           {
            "marker": {
             "colorbar": {
              "outlinewidth": 0,
              "ticks": ""
             }
            },
            "type": "scatter"
           }
          ],
          "scatter3d": [
           {
            "line": {
             "colorbar": {
              "outlinewidth": 0,
              "ticks": ""
             }
            },
            "marker": {
             "colorbar": {
              "outlinewidth": 0,
              "ticks": ""
             }
            },
            "type": "scatter3d"
           }
          ],
          "scattercarpet": [
           {
            "marker": {
             "colorbar": {
              "outlinewidth": 0,
              "ticks": ""
             }
            },
            "type": "scattercarpet"
           }
          ],
          "scattergeo": [
           {
            "marker": {
             "colorbar": {
              "outlinewidth": 0,
              "ticks": ""
             }
            },
            "type": "scattergeo"
           }
          ],
          "scattergl": [
           {
            "marker": {
             "colorbar": {
              "outlinewidth": 0,
              "ticks": ""
             }
            },
            "type": "scattergl"
           }
          ],
          "scattermapbox": [
           {
            "marker": {
             "colorbar": {
              "outlinewidth": 0,
              "ticks": ""
             }
            },
            "type": "scattermapbox"
           }
          ],
          "scatterpolar": [
           {
            "marker": {
             "colorbar": {
              "outlinewidth": 0,
              "ticks": ""
             }
            },
            "type": "scatterpolar"
           }
          ],
          "scatterpolargl": [
           {
            "marker": {
             "colorbar": {
              "outlinewidth": 0,
              "ticks": ""
             }
            },
            "type": "scatterpolargl"
           }
          ],
          "scatterternary": [
           {
            "marker": {
             "colorbar": {
              "outlinewidth": 0,
              "ticks": ""
             }
            },
            "type": "scatterternary"
           }
          ],
          "surface": [
           {
            "colorbar": {
             "outlinewidth": 0,
             "ticks": ""
            },
            "colorscale": [
             [
              0,
              "#0d0887"
             ],
             [
              0.1111111111111111,
              "#46039f"
             ],
             [
              0.2222222222222222,
              "#7201a8"
             ],
             [
              0.3333333333333333,
              "#9c179e"
             ],
             [
              0.4444444444444444,
              "#bd3786"
             ],
             [
              0.5555555555555556,
              "#d8576b"
             ],
             [
              0.6666666666666666,
              "#ed7953"
             ],
             [
              0.7777777777777778,
              "#fb9f3a"
             ],
             [
              0.8888888888888888,
              "#fdca26"
             ],
             [
              1,
              "#f0f921"
             ]
            ],
            "type": "surface"
           }
          ],
          "table": [
           {
            "cells": {
             "fill": {
              "color": "#EBF0F8"
             },
             "line": {
              "color": "white"
             }
            },
            "header": {
             "fill": {
              "color": "#C8D4E3"
             },
             "line": {
              "color": "white"
             }
            },
            "type": "table"
           }
          ]
         },
         "layout": {
          "annotationdefaults": {
           "arrowcolor": "#2a3f5f",
           "arrowhead": 0,
           "arrowwidth": 1
          },
          "coloraxis": {
           "colorbar": {
            "outlinewidth": 0,
            "ticks": ""
           }
          },
          "colorscale": {
           "diverging": [
            [
             0,
             "#8e0152"
            ],
            [
             0.1,
             "#c51b7d"
            ],
            [
             0.2,
             "#de77ae"
            ],
            [
             0.3,
             "#f1b6da"
            ],
            [
             0.4,
             "#fde0ef"
            ],
            [
             0.5,
             "#f7f7f7"
            ],
            [
             0.6,
             "#e6f5d0"
            ],
            [
             0.7,
             "#b8e186"
            ],
            [
             0.8,
             "#7fbc41"
            ],
            [
             0.9,
             "#4d9221"
            ],
            [
             1,
             "#276419"
            ]
           ],
           "sequential": [
            [
             0,
             "#0d0887"
            ],
            [
             0.1111111111111111,
             "#46039f"
            ],
            [
             0.2222222222222222,
             "#7201a8"
            ],
            [
             0.3333333333333333,
             "#9c179e"
            ],
            [
             0.4444444444444444,
             "#bd3786"
            ],
            [
             0.5555555555555556,
             "#d8576b"
            ],
            [
             0.6666666666666666,
             "#ed7953"
            ],
            [
             0.7777777777777778,
             "#fb9f3a"
            ],
            [
             0.8888888888888888,
             "#fdca26"
            ],
            [
             1,
             "#f0f921"
            ]
           ],
           "sequentialminus": [
            [
             0,
             "#0d0887"
            ],
            [
             0.1111111111111111,
             "#46039f"
            ],
            [
             0.2222222222222222,
             "#7201a8"
            ],
            [
             0.3333333333333333,
             "#9c179e"
            ],
            [
             0.4444444444444444,
             "#bd3786"
            ],
            [
             0.5555555555555556,
             "#d8576b"
            ],
            [
             0.6666666666666666,
             "#ed7953"
            ],
            [
             0.7777777777777778,
             "#fb9f3a"
            ],
            [
             0.8888888888888888,
             "#fdca26"
            ],
            [
             1,
             "#f0f921"
            ]
           ]
          },
          "colorway": [
           "#636efa",
           "#EF553B",
           "#00cc96",
           "#ab63fa",
           "#FFA15A",
           "#19d3f3",
           "#FF6692",
           "#B6E880",
           "#FF97FF",
           "#FECB52"
          ],
          "font": {
           "color": "#2a3f5f"
          },
          "geo": {
           "bgcolor": "white",
           "lakecolor": "white",
           "landcolor": "#E5ECF6",
           "showlakes": true,
           "showland": true,
           "subunitcolor": "white"
          },
          "hoverlabel": {
           "align": "left"
          },
          "hovermode": "closest",
          "mapbox": {
           "style": "light"
          },
          "paper_bgcolor": "white",
          "plot_bgcolor": "#E5ECF6",
          "polar": {
           "angularaxis": {
            "gridcolor": "white",
            "linecolor": "white",
            "ticks": ""
           },
           "bgcolor": "#E5ECF6",
           "radialaxis": {
            "gridcolor": "white",
            "linecolor": "white",
            "ticks": ""
           }
          },
          "scene": {
           "xaxis": {
            "backgroundcolor": "#E5ECF6",
            "gridcolor": "white",
            "gridwidth": 2,
            "linecolor": "white",
            "showbackground": true,
            "ticks": "",
            "zerolinecolor": "white"
           },
           "yaxis": {
            "backgroundcolor": "#E5ECF6",
            "gridcolor": "white",
            "gridwidth": 2,
            "linecolor": "white",
            "showbackground": true,
            "ticks": "",
            "zerolinecolor": "white"
           },
           "zaxis": {
            "backgroundcolor": "#E5ECF6",
            "gridcolor": "white",
            "gridwidth": 2,
            "linecolor": "white",
            "showbackground": true,
            "ticks": "",
            "zerolinecolor": "white"
           }
          },
          "shapedefaults": {
           "line": {
            "color": "#2a3f5f"
           }
          },
          "ternary": {
           "aaxis": {
            "gridcolor": "white",
            "linecolor": "white",
            "ticks": ""
           },
           "baxis": {
            "gridcolor": "white",
            "linecolor": "white",
            "ticks": ""
           },
           "bgcolor": "#E5ECF6",
           "caxis": {
            "gridcolor": "white",
            "linecolor": "white",
            "ticks": ""
           }
          },
          "title": {
           "x": 0.05
          },
          "xaxis": {
           "automargin": true,
           "gridcolor": "white",
           "linecolor": "white",
           "ticks": "",
           "title": {
            "standoff": 15
           },
           "zerolinecolor": "white",
           "zerolinewidth": 2
          },
          "yaxis": {
           "automargin": true,
           "gridcolor": "white",
           "linecolor": "white",
           "ticks": "",
           "title": {
            "standoff": 15
           },
           "zerolinecolor": "white",
           "zerolinewidth": 2
          }
         }
        }
       }
      },
      "text/html": [
       "<div>\n",
       "        \n",
       "        \n",
       "            <div id=\"5d3d5aec-3046-49c9-8ea3-afa53b79782d\" class=\"plotly-graph-div\" style=\"height:525px; width:100%;\"></div>\n",
       "            <script type=\"text/javascript\">\n",
       "                require([\"plotly\"], function(Plotly) {\n",
       "                    window.PLOTLYENV=window.PLOTLYENV || {};\n",
       "                    \n",
       "                if (document.getElementById(\"5d3d5aec-3046-49c9-8ea3-afa53b79782d\")) {\n",
       "                    Plotly.newPlot(\n",
       "                        '5d3d5aec-3046-49c9-8ea3-afa53b79782d',\n",
       "                        [{\"name\": \"Status\", \"type\": \"bar\", \"x\": [\"Nurse\", \"Software salesman\", \"Make-up artist\", \"Fireman\", \"Product development manager\", \"Field service technician\", \"Vodka saleswoman\", \"Real estate agent\", \"Pharmaceutical saleswoman\", \"Trauma nurse\", \"Receptionist\", \"Businessman\", \"Event manager\", \"Luxury car salesman\", \"Nursing student\", \"Software account executive\", \"Bank manager\", \"Compliance specialist\", \"Social worker\", \"Vacation rental manager\", \"Flight attendant\", \"Account executive\", \"Realtor\", \"Boat interior designer\", \"Dietician\", \"Trainer / gym owner\", \"School district facility director\", \"Branch manager of a car rental company\", \"Manager of family-owned bar & grill\", \"Sale account executive\", \"Cosmetologist\", \"2nd grade school teacher\", \"Commercial insurance adjuster\", \"Financial associate\", \"Technical sales representative\", \"Firefighter\", \"International recruiter of an airline\", \"Tutoring club owner\", \"Software saleswoman\", \"Construction project manager\", \"Senior title analyst\", \"High yield bond trader\", \"Financial consultant\", \"President & CEO of a staffing & recruiting company\", \"Assistant director\", \"Financial analyst\", \"Hotel marketing specialist\", \"Civil and environmental engineer\", \"Residential real estate agent\", \"Kidney dialysis patient care technician\"], \"y\": [\"Married\", \"Married\", \"Divorced\", \"Divorced\", \"Divorced\", \"Divorced\", \"Divorced\", \"Divorced\", \"Divorced\", \"Divorced\", \"Divorced\", \"Divorced\", \"Divorced\", \"Divorced\", \"Divorced\", \"Divorced\", \"Divorced\", \"Divorced\", \"Divorced\", \"Divorced\", \"Divorced\", \"Divorced\", \"Divorced\", \"Divorced\", \"Divorced\", \"Divorced\", \"Divorced\", \"Divorced\", \"Married\", \"Married\", \"Married\", \"Married\", \"Divorced\", \"Divorced\", \"Divorced\", \"Divorced\", \"Divorced\", \"Divorced\", \"Married\", \"Married\", \"Divorced\", \"Divorced\", \"Married\", \"Married\", \"Divorced\", \"Divorced\", \"Divorced\", \"Divorced\", \"Married\", \"Married\"]}, {\"name\": \"Gender\", \"type\": \"bar\", \"x\": [\"Nurse\", \"Software salesman\", \"Make-up artist\", \"Fireman\", \"Product development manager\", \"Field service technician\", \"Vodka saleswoman\", \"Real estate agent\", \"Pharmaceutical saleswoman\", \"Trauma nurse\", \"Receptionist\", \"Businessman\", \"Event manager\", \"Luxury car salesman\", \"Nursing student\", \"Software account executive\", \"Bank manager\", \"Compliance specialist\", \"Social worker\", \"Vacation rental manager\", \"Flight attendant\", \"Account executive\", \"Realtor\", \"Boat interior designer\", \"Dietician\", \"Trainer / gym owner\", \"School district facility director\", \"Branch manager of a car rental company\", \"Manager of family-owned bar & grill\", \"Sale account executive\", \"Cosmetologist\", \"2nd grade school teacher\", \"Commercial insurance adjuster\", \"Financial associate\", \"Technical sales representative\", \"Firefighter\", \"International recruiter of an airline\", \"Tutoring club owner\", \"Software saleswoman\", \"Construction project manager\", \"Senior title analyst\", \"High yield bond trader\", \"Financial consultant\", \"President & CEO of a staffing & recruiting company\", \"Assistant director\", \"Financial analyst\", \"Hotel marketing specialist\", \"Civil and environmental engineer\", \"Residential real estate agent\", \"Kidney dialysis patient care technician\"], \"y\": [\"F\", \"M\", \"F\", \"M\", \"F\", \"M\", \"F\", \"M\", \"F\", \"M\", \"F\", \"M\", \"F\", \"M\", \"F\", \"M\", \"F\", \"M\", \"F\", \"M\", \"F\", \"M\", \"F\", \"M\", \"F\", \"M\", \"F\", \"M\", \"F\", \"M\", \"F\", \"M\", \"F\", \"M\", \"F\", \"M\", \"F\", \"M\", \"F\", \"M\", \"F\", \"M\", \"F\", \"M\", \"F\", \"M\", \"F\", \"M\", \"F\", \"M\"]}],\n",
       "                        {\"barmode\": \"group\", \"template\": {\"data\": {\"bar\": [{\"error_x\": {\"color\": \"#2a3f5f\"}, \"error_y\": {\"color\": \"#2a3f5f\"}, \"marker\": {\"line\": {\"color\": \"#E5ECF6\", \"width\": 0.5}}, \"type\": \"bar\"}], \"barpolar\": [{\"marker\": {\"line\": {\"color\": \"#E5ECF6\", \"width\": 0.5}}, \"type\": \"barpolar\"}], \"carpet\": [{\"aaxis\": {\"endlinecolor\": \"#2a3f5f\", \"gridcolor\": \"white\", \"linecolor\": \"white\", \"minorgridcolor\": \"white\", \"startlinecolor\": \"#2a3f5f\"}, \"baxis\": {\"endlinecolor\": \"#2a3f5f\", \"gridcolor\": \"white\", \"linecolor\": \"white\", \"minorgridcolor\": \"white\", \"startlinecolor\": \"#2a3f5f\"}, \"type\": \"carpet\"}], \"choropleth\": [{\"colorbar\": {\"outlinewidth\": 0, \"ticks\": \"\"}, \"type\": \"choropleth\"}], \"contour\": [{\"colorbar\": {\"outlinewidth\": 0, \"ticks\": \"\"}, \"colorscale\": [[0.0, \"#0d0887\"], [0.1111111111111111, \"#46039f\"], [0.2222222222222222, \"#7201a8\"], [0.3333333333333333, \"#9c179e\"], [0.4444444444444444, \"#bd3786\"], [0.5555555555555556, \"#d8576b\"], [0.6666666666666666, \"#ed7953\"], [0.7777777777777778, \"#fb9f3a\"], [0.8888888888888888, \"#fdca26\"], [1.0, \"#f0f921\"]], \"type\": \"contour\"}], \"contourcarpet\": [{\"colorbar\": {\"outlinewidth\": 0, \"ticks\": \"\"}, \"type\": \"contourcarpet\"}], \"heatmap\": [{\"colorbar\": {\"outlinewidth\": 0, \"ticks\": \"\"}, \"colorscale\": [[0.0, \"#0d0887\"], [0.1111111111111111, \"#46039f\"], [0.2222222222222222, \"#7201a8\"], [0.3333333333333333, \"#9c179e\"], [0.4444444444444444, \"#bd3786\"], [0.5555555555555556, \"#d8576b\"], [0.6666666666666666, \"#ed7953\"], [0.7777777777777778, \"#fb9f3a\"], [0.8888888888888888, \"#fdca26\"], [1.0, \"#f0f921\"]], \"type\": \"heatmap\"}], \"heatmapgl\": [{\"colorbar\": {\"outlinewidth\": 0, \"ticks\": \"\"}, \"colorscale\": [[0.0, \"#0d0887\"], [0.1111111111111111, \"#46039f\"], [0.2222222222222222, \"#7201a8\"], [0.3333333333333333, \"#9c179e\"], [0.4444444444444444, \"#bd3786\"], [0.5555555555555556, \"#d8576b\"], [0.6666666666666666, \"#ed7953\"], [0.7777777777777778, \"#fb9f3a\"], [0.8888888888888888, \"#fdca26\"], [1.0, \"#f0f921\"]], \"type\": \"heatmapgl\"}], \"histogram\": [{\"marker\": {\"colorbar\": {\"outlinewidth\": 0, \"ticks\": \"\"}}, \"type\": \"histogram\"}], \"histogram2d\": [{\"colorbar\": {\"outlinewidth\": 0, \"ticks\": \"\"}, \"colorscale\": [[0.0, \"#0d0887\"], [0.1111111111111111, \"#46039f\"], [0.2222222222222222, \"#7201a8\"], [0.3333333333333333, \"#9c179e\"], [0.4444444444444444, \"#bd3786\"], [0.5555555555555556, \"#d8576b\"], [0.6666666666666666, \"#ed7953\"], [0.7777777777777778, \"#fb9f3a\"], [0.8888888888888888, \"#fdca26\"], [1.0, \"#f0f921\"]], \"type\": \"histogram2d\"}], \"histogram2dcontour\": [{\"colorbar\": {\"outlinewidth\": 0, \"ticks\": \"\"}, \"colorscale\": [[0.0, \"#0d0887\"], [0.1111111111111111, \"#46039f\"], [0.2222222222222222, \"#7201a8\"], [0.3333333333333333, \"#9c179e\"], [0.4444444444444444, \"#bd3786\"], [0.5555555555555556, \"#d8576b\"], [0.6666666666666666, \"#ed7953\"], [0.7777777777777778, \"#fb9f3a\"], [0.8888888888888888, \"#fdca26\"], [1.0, \"#f0f921\"]], \"type\": \"histogram2dcontour\"}], \"mesh3d\": [{\"colorbar\": {\"outlinewidth\": 0, \"ticks\": \"\"}, \"type\": \"mesh3d\"}], \"parcoords\": [{\"line\": {\"colorbar\": {\"outlinewidth\": 0, \"ticks\": \"\"}}, \"type\": \"parcoords\"}], \"pie\": [{\"automargin\": true, \"type\": \"pie\"}], \"scatter\": [{\"marker\": {\"colorbar\": {\"outlinewidth\": 0, \"ticks\": \"\"}}, \"type\": \"scatter\"}], \"scatter3d\": [{\"line\": {\"colorbar\": {\"outlinewidth\": 0, \"ticks\": \"\"}}, \"marker\": {\"colorbar\": {\"outlinewidth\": 0, \"ticks\": \"\"}}, \"type\": \"scatter3d\"}], \"scattercarpet\": [{\"marker\": {\"colorbar\": {\"outlinewidth\": 0, \"ticks\": \"\"}}, \"type\": \"scattercarpet\"}], \"scattergeo\": [{\"marker\": {\"colorbar\": {\"outlinewidth\": 0, \"ticks\": \"\"}}, \"type\": \"scattergeo\"}], \"scattergl\": [{\"marker\": {\"colorbar\": {\"outlinewidth\": 0, \"ticks\": \"\"}}, \"type\": \"scattergl\"}], \"scattermapbox\": [{\"marker\": {\"colorbar\": {\"outlinewidth\": 0, \"ticks\": \"\"}}, \"type\": \"scattermapbox\"}], \"scatterpolar\": [{\"marker\": {\"colorbar\": {\"outlinewidth\": 0, \"ticks\": \"\"}}, \"type\": \"scatterpolar\"}], \"scatterpolargl\": [{\"marker\": {\"colorbar\": {\"outlinewidth\": 0, \"ticks\": \"\"}}, \"type\": \"scatterpolargl\"}], \"scatterternary\": [{\"marker\": {\"colorbar\": {\"outlinewidth\": 0, \"ticks\": \"\"}}, \"type\": \"scatterternary\"}], \"surface\": [{\"colorbar\": {\"outlinewidth\": 0, \"ticks\": \"\"}, \"colorscale\": [[0.0, \"#0d0887\"], [0.1111111111111111, \"#46039f\"], [0.2222222222222222, \"#7201a8\"], [0.3333333333333333, \"#9c179e\"], [0.4444444444444444, \"#bd3786\"], [0.5555555555555556, \"#d8576b\"], [0.6666666666666666, \"#ed7953\"], [0.7777777777777778, \"#fb9f3a\"], [0.8888888888888888, \"#fdca26\"], [1.0, \"#f0f921\"]], \"type\": \"surface\"}], \"table\": [{\"cells\": {\"fill\": {\"color\": \"#EBF0F8\"}, \"line\": {\"color\": \"white\"}}, \"header\": {\"fill\": {\"color\": \"#C8D4E3\"}, \"line\": {\"color\": \"white\"}}, \"type\": \"table\"}]}, \"layout\": {\"annotationdefaults\": {\"arrowcolor\": \"#2a3f5f\", \"arrowhead\": 0, \"arrowwidth\": 1}, \"coloraxis\": {\"colorbar\": {\"outlinewidth\": 0, \"ticks\": \"\"}}, \"colorscale\": {\"diverging\": [[0, \"#8e0152\"], [0.1, \"#c51b7d\"], [0.2, \"#de77ae\"], [0.3, \"#f1b6da\"], [0.4, \"#fde0ef\"], [0.5, \"#f7f7f7\"], [0.6, \"#e6f5d0\"], [0.7, \"#b8e186\"], [0.8, \"#7fbc41\"], [0.9, \"#4d9221\"], [1, \"#276419\"]], \"sequential\": [[0.0, \"#0d0887\"], [0.1111111111111111, \"#46039f\"], [0.2222222222222222, \"#7201a8\"], [0.3333333333333333, \"#9c179e\"], [0.4444444444444444, \"#bd3786\"], [0.5555555555555556, \"#d8576b\"], [0.6666666666666666, \"#ed7953\"], [0.7777777777777778, \"#fb9f3a\"], [0.8888888888888888, \"#fdca26\"], [1.0, \"#f0f921\"]], \"sequentialminus\": [[0.0, \"#0d0887\"], [0.1111111111111111, \"#46039f\"], [0.2222222222222222, \"#7201a8\"], [0.3333333333333333, \"#9c179e\"], [0.4444444444444444, \"#bd3786\"], [0.5555555555555556, \"#d8576b\"], [0.6666666666666666, \"#ed7953\"], [0.7777777777777778, \"#fb9f3a\"], [0.8888888888888888, \"#fdca26\"], [1.0, \"#f0f921\"]]}, \"colorway\": [\"#636efa\", \"#EF553B\", \"#00cc96\", \"#ab63fa\", \"#FFA15A\", \"#19d3f3\", \"#FF6692\", \"#B6E880\", \"#FF97FF\", \"#FECB52\"], \"font\": {\"color\": \"#2a3f5f\"}, \"geo\": {\"bgcolor\": \"white\", \"lakecolor\": \"white\", \"landcolor\": \"#E5ECF6\", \"showlakes\": true, \"showland\": true, \"subunitcolor\": \"white\"}, \"hoverlabel\": {\"align\": \"left\"}, \"hovermode\": \"closest\", \"mapbox\": {\"style\": \"light\"}, \"paper_bgcolor\": \"white\", \"plot_bgcolor\": \"#E5ECF6\", \"polar\": {\"angularaxis\": {\"gridcolor\": \"white\", \"linecolor\": \"white\", \"ticks\": \"\"}, \"bgcolor\": \"#E5ECF6\", \"radialaxis\": {\"gridcolor\": \"white\", \"linecolor\": \"white\", \"ticks\": \"\"}}, \"scene\": {\"xaxis\": {\"backgroundcolor\": \"#E5ECF6\", \"gridcolor\": \"white\", \"gridwidth\": 2, \"linecolor\": \"white\", \"showbackground\": true, \"ticks\": \"\", \"zerolinecolor\": \"white\"}, \"yaxis\": {\"backgroundcolor\": \"#E5ECF6\", \"gridcolor\": \"white\", \"gridwidth\": 2, \"linecolor\": \"white\", \"showbackground\": true, \"ticks\": \"\", \"zerolinecolor\": \"white\"}, \"zaxis\": {\"backgroundcolor\": \"#E5ECF6\", \"gridcolor\": \"white\", \"gridwidth\": 2, \"linecolor\": \"white\", \"showbackground\": true, \"ticks\": \"\", \"zerolinecolor\": \"white\"}}, \"shapedefaults\": {\"line\": {\"color\": \"#2a3f5f\"}}, \"ternary\": {\"aaxis\": {\"gridcolor\": \"white\", \"linecolor\": \"white\", \"ticks\": \"\"}, \"baxis\": {\"gridcolor\": \"white\", \"linecolor\": \"white\", \"ticks\": \"\"}, \"bgcolor\": \"#E5ECF6\", \"caxis\": {\"gridcolor\": \"white\", \"linecolor\": \"white\", \"ticks\": \"\"}}, \"title\": {\"x\": 0.05}, \"xaxis\": {\"automargin\": true, \"gridcolor\": \"white\", \"linecolor\": \"white\", \"ticks\": \"\", \"title\": {\"standoff\": 15}, \"zerolinecolor\": \"white\", \"zerolinewidth\": 2}, \"yaxis\": {\"automargin\": true, \"gridcolor\": \"white\", \"linecolor\": \"white\", \"ticks\": \"\", \"title\": {\"standoff\": 15}, \"zerolinecolor\": \"white\", \"zerolinewidth\": 2}}}},\n",
       "                        {\"responsive\": true}\n",
       "                    ).then(function(){\n",
       "                            \n",
       "var gd = document.getElementById('5d3d5aec-3046-49c9-8ea3-afa53b79782d');\n",
       "var x = new MutationObserver(function (mutations, observer) {{\n",
       "        var display = window.getComputedStyle(gd).display;\n",
       "        if (!display || display === 'none') {{\n",
       "            console.log([gd, 'removed!']);\n",
       "            Plotly.purge(gd);\n",
       "            observer.disconnect();\n",
       "        }}\n",
       "}});\n",
       "\n",
       "// Listen for the removal of the full notebook cells\n",
       "var notebookContainer = gd.closest('#notebook-container');\n",
       "if (notebookContainer) {{\n",
       "    x.observe(notebookContainer, {childList: true});\n",
       "}}\n",
       "\n",
       "// Listen for the clearing of the current output cell\n",
       "var outputEl = gd.closest('.output');\n",
       "if (outputEl) {{\n",
       "    x.observe(outputEl, {childList: true});\n",
       "}}\n",
       "\n",
       "                        })\n",
       "                };\n",
       "                });\n",
       "            </script>\n",
       "        </div>"
      ]
     },
     "metadata": {},
     "output_type": "display_data"
    }
   ],
   "source": [
    "data = [trace1, trace2]\n",
    "layout = go.Layout(barmode='group')\n",
    "\n",
    "fig = go.Figure(data=data, layout=layout)\n",
    "py.offline.iplot(fig)\n"
   ]
  },
  {
   "cell_type": "code",
   "execution_count": null,
   "metadata": {},
   "outputs": [],
   "source": []
  }
 ],
 "metadata": {
  "kernelspec": {
   "display_name": "Python 3",
   "language": "python",
   "name": "python3"
  },
  "language_info": {
   "codemirror_mode": {
    "name": "ipython",
    "version": 3
   },
   "file_extension": ".py",
   "mimetype": "text/x-python",
   "name": "python",
   "nbconvert_exporter": "python",
   "pygments_lexer": "ipython3",
   "version": "3.7.4"
  }
 },
 "nbformat": 4,
 "nbformat_minor": 2
}
